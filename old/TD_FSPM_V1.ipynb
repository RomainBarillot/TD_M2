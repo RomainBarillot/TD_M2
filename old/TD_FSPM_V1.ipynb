{
 "cells": [
  {
   "cell_type": "code",
   "execution_count": 10,
   "metadata": {
    "slideshow": {
     "slide_type": "slide"
    }
   },
   "outputs": [],
   "source": [
    "from __future__ import print_function\n",
    "from ipywidgets import interact, interactive, fixed, interact_manual\n",
    "import ipywidgets as widgets"
   ]
  },
  {
   "cell_type": "code",
   "execution_count": 11,
   "metadata": {},
   "outputs": [
    {
     "name": "stdout",
     "output_type": "stream",
     "text": [
      "Lsystem:\n",
      "Axiom: A(1)\n",
      "module A\n",
      "derivation length: 6\n",
      "production:\n",
      "A(n) : \n",
      "\n",
      "  produce F(long(n))[+(alpha(n))A(n+1)] [-(alpha(n))A(n+1)]F(0.2);(3)@O(0.2)\n",
      "\n",
      "endlsystem\n"
     ]
    }
   ],
   "source": [
    "from openalea.lpy import Lsystem, Lstring\n",
    "from openalea.plantgl.all import Viewer\n",
    "\n",
    "lsys = Lsystem(r'D:\\Documents\\Lusignan\\Modeles\\TD_lsystem_V1.lpy')\n",
    "print (lsys)"
   ]
  },
  {
   "cell_type": "code",
   "execution_count": 12,
   "metadata": {},
   "outputs": [
    {
     "data": {
      "application/vnd.jupyter.widget-view+json": {
       "model_id": "94479bebcf4d4714ba04b7463e022c06",
       "version_major": 2,
       "version_minor": 0
      },
      "text/plain": [
       "aW50ZXJhY3RpdmUoY2hpbGRyZW49KEludFNsaWRlcih2YWx1ZT0xMCwgZGVzY3JpcHRpb249dSd4JywgbWF4PTMwLCBtaW49LTEwKSwgT3V0cHV0KCkpLCBfZG9tX2NsYXNzZXM9KHUnd2lkZ2XigKY=\n"
      ]
     },
     "metadata": {},
     "output_type": "display_data"
    }
   ],
   "source": [
    "def set_beta(x):\n",
    "    lsys.beta = x\n",
    "    lstring = lsys.animate()\n",
    "\n",
    "interact(set_beta, x=10);\n",
    "\n",
    "\n",
    "\n",
    "interpretedstring = lsys.interpret(lstring)\n",
    "scene = lsys.sceneInterpretation(interpretedstring)\n",
    "Viewer.display(scene)"
   ]
  }
 ],
 "metadata": {
  "celltoolbar": "Raw Cell Format",
  "kernelspec": {
   "display_name": "Python 2",
   "language": "python",
   "name": "python2"
  },
  "language_info": {
   "codemirror_mode": {
    "name": "ipython",
    "version": 2
   },
   "file_extension": ".py",
   "mimetype": "text/x-python",
   "name": "python",
   "nbconvert_exporter": "python",
   "pygments_lexer": "ipython2",
   "version": "2.7.15"
  }
 },
 "nbformat": 4,
 "nbformat_minor": 2
}
