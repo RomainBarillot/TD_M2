{
 "cells": [
  {
   "cell_type": "markdown",
   "metadata": {},
   "source": [
    "<h1><center>Modélisation écohysiologique de la plante dans le peuplement pour mieux comprendre et prédire (idéotypes, diversité/environnement, règles d'assemblage et amélioration des mélanges)</center></h1><hr/>"
   ]
  },
  {
   "cell_type": "markdown",
   "metadata": {},
   "source": [
    "![caption](files/contexte.png)"
   ]
  },
  {
   "cell_type": "markdown",
   "metadata": {},
   "source": [
    "<h2><center>Présentation du TD</center></h2><hr/>\n",
    "\n",
    "![caption](files/Luzerne.png)"
   ]
  },
  {
   "cell_type": "markdown",
   "metadata": {},
   "source": [
    "<h2><center>Chargement des librairies python</center></h2><hr/>"
   ]
  },
  {
   "cell_type": "code",
   "execution_count": 5,
   "metadata": {},
   "outputs": [],
   "source": [
    "import library\n",
    "from __future__ import print_function\n",
    "from ipywidgets import interact, interactive, fixed, interact_manual\n",
    "import ipywidgets as widgets\n",
    "from openalea.mtg import MTG #librairie MTG\n",
    "from openalea.lpy import Lsystem, Lstring #librairie Lsystem\n",
    "from openalea.plantgl.all import Viewer #librairie visualisation graphique"
   ]
  },
  {
   "cell_type": "markdown",
   "metadata": {},
   "source": [
    "<h2><center>Description de l'Architecture des plantes</center></h2><hr/>"
   ]
  },
  {
   "cell_type": "markdown",
   "metadata": {},
   "source": [
    "![caption](files/architecture.jpg)"
   ]
  },
  {
   "cell_type": "markdown",
   "metadata": {},
   "source": [
    "<h3><center>Présentation des plantes en séance</center></h2><hr/>"
   ]
  },
  {
   "cell_type": "markdown",
   "metadata": {},
   "source": [
    "\n",
    "Décrivez les plantes qui sont devant vous.<p/>\n",
    "Identifiez les entités suivantes : \"A\" pour tige, \"S\" pour entrenoeud, \"T\" pour l'extrémité du pétiole et \"U\" : pour l'extrémité du foliole central <p/> Identifiez des relations topologiques entre entités : \"+\" pour insertion et \">\" pour succession <p/> Observez vous des motifs qui se répètent. <p/>"
   ]
  },
  {
   "cell_type": "markdown",
   "metadata": {},
   "source": [
    "<h3><center>Cas d'une légumineuse : La luzerne</center></h3><hr/>"
   ]
  },
  {
   "cell_type": "markdown",
   "metadata": {},
   "source": [
    "<p/>Sur le MTG suivant:<p/>\n",
    "    <p/>Donnez le nombre d'axes<p/>\n",
    "    <p/>Donnez le nombre de petioles<p/>"
   ]
  },
  {
   "cell_type": "code",
   "execution_count": 3,
   "metadata": {},
   "outputs": [
    {
     "name": "stdout",
     "output_type": "stream",
     "text": [
      "MTG : nb_vertices=57, nb_scales=4\n",
      "/P1\t\t\t(id=1)\t\t\t\t\t\t\t\t\t\t\t\n",
      "^/A1\t\t\t(id=2)\t\t\t\t\t\t\t\t\t\t\t\n",
      "^/S1\t\t\t(id=3)\t\t\t\t\t\t\t\t\t\t\t\n",
      "\t+A2\t\t\t(id=4)\t\t\t\t\t\t\t\t\t\t\n",
      "\t^/S1\t\t\t(id=5)\t\t\t\t\t\t\t\t\t\t\n",
      "\t\t+T1\t\t\t(id=6)\t\t\t\t\t\t\t\t\t\n",
      "\t\t^<U1\t\t\t(id=7)\t\t\t\t\t\t\t\t\t\n",
      "\t^<S2\t\t\t(id=8)\t\t\t\t\t\t\t\t\t\t\n",
      "\t\t+T1\t\t\t(id=9)\t\t\t\t\t\t\t\t\t\n",
      "\t\t^<U1\t\t\t(id=10)\t\t\t\t\t\t\t\t\t\n",
      "\t^<S3\t\t\t(id=11)\t\t\t\t\t\t\t\t\t\t\n",
      "\t\t+T1\t\t\t(id=12)\t\t\t\t\t\t\t\t\t\n",
      "\t\t^<U1\t\t\t(id=13)\t\t\t\t\t\t\t\t\t\n",
      "\t^<S4\t\t\t(id=14)\t\t\t\t\t\t\t\t\t\t\n",
      "\t\t+T1\t\t\t(id=15)\t\t\t\t\t\t\t\t\t\n",
      "\t\t^<U1\t\t\t(id=16)\t\t\t\t\t\t\t\t\t\n",
      "\t+A3\t\t\t(id=17)\t\t\t\t\t\t\t\t\t\t\n",
      "\t^/S1\t\t\t(id=18)\t\t\t\t\t\t\t\t\t\t\n",
      "\t\t+T1\t\t\t(id=19)\t\t\t\t\t\t\t\t\t\n",
      "\t\t^<U1\t\t\t(id=20)\t\t\t\t\t\t\t\t\t\n",
      "\t^<S2\t\t\t(id=21)\t\t\t\t\t\t\t\t\t\t\n",
      "\t\t+T1\t\t\t(id=22)\t\t\t\t\t\t\t\t\t\n",
      "\t\t^<U1\t\t\t(id=23)\t\t\t\t\t\t\t\t\t\n",
      "\t^<S3\t\t\t(id=24)\t\t\t\t\t\t\t\t\t\t\n",
      "\t\t+T1\t\t\t(id=25)\t\t\t\t\t\t\t\t\t\n",
      "\t\t^<U1\t\t\t(id=26)\t\t\t\t\t\t\t\t\t\n",
      "^<S2\t\t\t(id=27)\t\t\t\t\t\t\t\t\t\t\t\n",
      "\t+T1\t\t\t(id=28)\t\t\t\t\t\t\t\t\t\t\n",
      "\t^<U1\t\t\t(id=29)\t\t\t\t\t\t\t\t\t\t\n",
      "^<S3\t\t\t(id=30)\t\t\t\t\t\t\t\t\t\t\t\n",
      "\t+T1\t\t\t(id=31)\t\t\t\t\t\t\t\t\t\t\n",
      "\t^<U1\t\t\t(id=32)\t\t\t\t\t\t\t\t\t\t\n",
      "^<S4\t\t\t(id=33)\t\t\t\t\t\t\t\t\t\t\t\n",
      "\t+T1\t\t\t(id=34)\t\t\t\t\t\t\t\t\t\t\n",
      "\t^<U1\t\t\t(id=35)\t\t\t\t\t\t\t\t\t\t\n",
      "^<S5\t\t\t(id=36)\t\t\t\t\t\t\t\t\t\t\t\n",
      "\t+T1\t\t\t(id=37)\t\t\t\t\t\t\t\t\t\t\n",
      "\t^<U1\t\t\t(id=38)\t\t\t\t\t\t\t\t\t\t\n",
      "^<S6\t\t\t(id=39)\t\t\t\t\t\t\t\t\t\t\t\n",
      "\t+T1\t\t\t(id=40)\t\t\t\t\t\t\t\t\t\t\n",
      "\t^<U1\t\t\t(id=41)\t\t\t\t\t\t\t\t\t\t\n",
      "^<S7\t\t\t(id=42)\t\t\t\t\t\t\t\t\t\t\t\n",
      "\t+T1\t\t\t(id=43)\t\t\t\t\t\t\t\t\t\t\n",
      "\t^<U1\t\t\t(id=44)\t\t\t\t\t\t\t\t\t\t\n",
      "^<S8\t\t\t(id=45)\t\t\t\t\t\t\t\t\t\t\t\n",
      "\t+T1\t\t\t(id=46)\t\t\t\t\t\t\t\t\t\t\n",
      "\t^<U1\t\t\t(id=47)\t\t\t\t\t\t\t\t\t\t\n",
      "^<S9\t\t\t(id=48)\t\t\t\t\t\t\t\t\t\t\t\n",
      "\t+T1\t\t\t(id=49)\t\t\t\t\t\t\t\t\t\t\n",
      "\t^<U1\t\t\t(id=50)\t\t\t\t\t\t\t\t\t\t\n",
      "^<S10\t\t\t(id=51)\t\t\t\t\t\t\t\t\t\t\t\n",
      "\t+T1\t\t\t(id=52)\t\t\t\t\t\t\t\t\t\t\n",
      "\t^<U1\t\t\t(id=53)\t\t\t\t\t\t\t\t\t\t\n",
      "^<S11\t\t\t(id=54)\t\t\t\t\t\t\t\t\t\t\t\n",
      "\t+T1\t\t\t(id=55)\t\t\t\t\t\t\t\t\t\t\n",
      "\t^<U1\t\t\t(id=56)\t\t\t\t\t\t\t\t\t\t\n"
     ]
    },
    {
     "data": {
      "text/plain": [
       "['AA',\n",
       " 'index',\n",
       " 'BB',\n",
       " 'CC',\n",
       " 'XX',\n",
       " 'label',\n",
       " 'YY',\n",
       " 'Flargeur',\n",
       " 'edge_type',\n",
       " 'ZZ',\n",
       " '_line']"
      ]
     },
     "execution_count": 3,
     "metadata": {},
     "output_type": "execute_result"
    }
   ],
   "source": [
    "g = MTG(r'MTG\\luzerne.mtg') #Chargement du fichier MTG\n",
    "g.display()\n",
    "g.property_names()"
   ]
  },
  {
   "cell_type": "markdown",
   "metadata": {},
   "source": [
    "transition vers le lsystem plus complexe en expliquant que pour celui ci le lien avec le MTG"
   ]
  },
  {
   "cell_type": "markdown",
   "metadata": {},
   "source": [
    "<h3><center>Cas d'une graminée : La fétuque</center></h3><hr/>"
   ]
  },
  {
   "cell_type": "markdown",
   "metadata": {},
   "source": [
    "\n",
    "\n",
    "Décrivez les plantes qui sont devant vous.<p/>\n",
    "Identifiez les entités suivantes : \"A\" pour talle, \"E\" pour gaine, \"T\" pour l'extrémité du pétiole, \"F\" : pour l'insertion du limbe et \"L\" pour les segments du limbe<p/> Identifiez des relations topologiques entre entités : \"+\" pour insertion et \">\" pour succession <p/> Observez vous des motifs qui se répètent. <p/>"
   ]
  },
  {
   "cell_type": "code",
   "execution_count": 4,
   "metadata": {
    "scrolled": true
   },
   "outputs": [
    {
     "name": "stdout",
     "output_type": "stream",
     "text": [
      "MTG : nb_vertices=386, nb_scales=4\n",
      "/P1\t\t\t(id=1)\t\t\t\t\t\t\t\t\t\t\t\n",
      "^/A0\t\t\t(id=2)\t\t\t\t\t\t\t\t\t\t\t\n",
      "^/E1\t\t\t(id=3)\t\t\t\t\t\t\t\t\t\t\t\n",
      "\t+A1\t\t\t(id=4)\t\t\t\t\t\t\t\t\t\t\n",
      "\t^/E1\t\t\t(id=5)\t\t\t\t\t\t\t\t\t\t\n",
      "\t\t+F1\t\t\t(id=6)\t\t\t\t\t\t\t\t\t\n",
      "\t\t^<L1\t\t\t(id=7)\t\t\t\t\t\t\t\t\t\n",
      "\t\t^<L2\t\t\t(id=8)\t\t\t\t\t\t\t\t\t\n",
      "\t\t^<L3\t\t\t(id=9)\t\t\t\t\t\t\t\t\t\n",
      "\t\t^<L4\t\t\t(id=10)\t\t\t\t\t\t\t\t\t\n",
      "\t\t^<L5\t\t\t(id=11)\t\t\t\t\t\t\t\t\t\n",
      "\t+A2\t\t\t(id=12)\t\t\t\t\t\t\t\t\t\t\n",
      "\t^/E1\t\t\t(id=13)\t\t\t\t\t\t\t\t\t\t\n",
      "\t\t+F1\t\t\t(id=14)\t\t\t\t\t\t\t\t\t\n",
      "\t\t^<L1\t\t\t(id=15)\t\t\t\t\t\t\t\t\t\n",
      "\t\t^<L2\t\t\t(id=16)\t\t\t\t\t\t\t\t\t\n",
      "\t\t^<L3\t\t\t(id=17)\t\t\t\t\t\t\t\t\t\n",
      "\t\t^<L4\t\t\t(id=18)\t\t\t\t\t\t\t\t\t\n",
      "\t^<E2\t\t\t(id=19)\t\t\t\t\t\t\t\t\t\t\n",
      "\t\t+F1\t\t\t(id=20)\t\t\t\t\t\t\t\t\t\n",
      "\t\t^<L1\t\t\t(id=21)\t\t\t\t\t\t\t\t\t\n",
      "\t\t^<L2\t\t\t(id=22)\t\t\t\t\t\t\t\t\t\n",
      "\t\t^<L3\t\t\t(id=23)\t\t\t\t\t\t\t\t\t\n",
      "\t+A3\t\t\t(id=24)\t\t\t\t\t\t\t\t\t\t\n",
      "\t^/E1\t\t\t(id=25)\t\t\t\t\t\t\t\t\t\t\n",
      "\t\t+F1\t\t\t(id=26)\t\t\t\t\t\t\t\t\t\n",
      "\t\t^<L1\t\t\t(id=27)\t\t\t\t\t\t\t\t\t\n",
      "\t\t^<L2\t\t\t(id=28)\t\t\t\t\t\t\t\t\t\n",
      "\t\t^<L3\t\t\t(id=29)\t\t\t\t\t\t\t\t\t\n",
      "\t\t^<L4\t\t\t(id=30)\t\t\t\t\t\t\t\t\t\n",
      "\t^<E2\t\t\t(id=31)\t\t\t\t\t\t\t\t\t\t\n",
      "\t\t+F1\t\t\t(id=32)\t\t\t\t\t\t\t\t\t\n",
      "\t\t^<L1\t\t\t(id=33)\t\t\t\t\t\t\t\t\t\n",
      "\t\t^<L2\t\t\t(id=34)\t\t\t\t\t\t\t\t\t\n",
      "\t\t^<L3\t\t\t(id=35)\t\t\t\t\t\t\t\t\t\n",
      "\t\t^<L4\t\t\t(id=36)\t\t\t\t\t\t\t\t\t\n",
      "\t+A4\t\t\t(id=37)\t\t\t\t\t\t\t\t\t\t\n",
      "\t^/E1\t\t\t(id=38)\t\t\t\t\t\t\t\t\t\t\n",
      "\t\t+F1\t\t\t(id=39)\t\t\t\t\t\t\t\t\t\n",
      "\t\t^<L1\t\t\t(id=40)\t\t\t\t\t\t\t\t\t\n",
      "\t\t^<L2\t\t\t(id=41)\t\t\t\t\t\t\t\t\t\n",
      "\t\t^<L3\t\t\t(id=42)\t\t\t\t\t\t\t\t\t\n",
      "\t^<E2\t\t\t(id=43)\t\t\t\t\t\t\t\t\t\t\n",
      "\t\t+F1\t\t\t(id=44)\t\t\t\t\t\t\t\t\t\n",
      "\t\t^<L1\t\t\t(id=45)\t\t\t\t\t\t\t\t\t\n",
      "\t\t^<L2\t\t\t(id=46)\t\t\t\t\t\t\t\t\t\n",
      "\t\t^<L3\t\t\t(id=47)\t\t\t\t\t\t\t\t\t\n",
      "\t\t^<L4\t\t\t(id=48)\t\t\t\t\t\t\t\t\t\n",
      "\t\t^<L5\t\t\t(id=49)\t\t\t\t\t\t\t\t\t\n",
      "\t^<E3\t\t\t(id=50)\t\t\t\t\t\t\t\t\t\t\n",
      "\t\t+F1\t\t\t(id=51)\t\t\t\t\t\t\t\t\t\n",
      "\t\t^<L1\t\t\t(id=52)\t\t\t\t\t\t\t\t\t\n",
      "\t\t^<L2\t\t\t(id=53)\t\t\t\t\t\t\t\t\t\n",
      "\t\t^<L3\t\t\t(id=54)\t\t\t\t\t\t\t\t\t\n",
      "\t^<E4\t\t\t(id=55)\t\t\t\t\t\t\t\t\t\t\n",
      "\t\t+F1\t\t\t(id=56)\t\t\t\t\t\t\t\t\t\n",
      "\t\t^<L1\t\t\t(id=57)\t\t\t\t\t\t\t\t\t\n",
      "\t\t^<L2\t\t\t(id=58)\t\t\t\t\t\t\t\t\t\n",
      "\t+A5\t\t\t(id=59)\t\t\t\t\t\t\t\t\t\t\n",
      "\t^/E1\t\t\t(id=60)\t\t\t\t\t\t\t\t\t\t\n",
      "\t\t+F1\t\t\t(id=61)\t\t\t\t\t\t\t\t\t\n",
      "\t\t^<L1\t\t\t(id=62)\t\t\t\t\t\t\t\t\t\n",
      "\t\t^<L2\t\t\t(id=63)\t\t\t\t\t\t\t\t\t\n",
      "\t\t^<L3\t\t\t(id=64)\t\t\t\t\t\t\t\t\t\n",
      "\t\t^<L4\t\t\t(id=65)\t\t\t\t\t\t\t\t\t\n",
      "\t^<E2\t\t\t(id=66)\t\t\t\t\t\t\t\t\t\t\n",
      "\t\t+F1\t\t\t(id=67)\t\t\t\t\t\t\t\t\t\n",
      "\t\t^<L1\t\t\t(id=68)\t\t\t\t\t\t\t\t\t\n",
      "\t\t^<L2\t\t\t(id=69)\t\t\t\t\t\t\t\t\t\n",
      "\t\t^<L3\t\t\t(id=70)\t\t\t\t\t\t\t\t\t\n",
      "\t\t^<L4\t\t\t(id=71)\t\t\t\t\t\t\t\t\t\n",
      "\t^<E3\t\t\t(id=72)\t\t\t\t\t\t\t\t\t\t\n",
      "\t\t+F1\t\t\t(id=73)\t\t\t\t\t\t\t\t\t\n",
      "\t\t^<L1\t\t\t(id=74)\t\t\t\t\t\t\t\t\t\n",
      "\t\t^<L2\t\t\t(id=75)\t\t\t\t\t\t\t\t\t\n",
      "\t\t^<L3\t\t\t(id=76)\t\t\t\t\t\t\t\t\t\n",
      "\t\t^<L4\t\t\t(id=77)\t\t\t\t\t\t\t\t\t\n",
      "\t+A6\t\t\t(id=78)\t\t\t\t\t\t\t\t\t\t\n",
      "\t^/E1\t\t\t(id=79)\t\t\t\t\t\t\t\t\t\t\n",
      "\t\t+F1\t\t\t(id=80)\t\t\t\t\t\t\t\t\t\n",
      "\t\t^<L1\t\t\t(id=81)\t\t\t\t\t\t\t\t\t\n",
      "\t\t^<L2\t\t\t(id=82)\t\t\t\t\t\t\t\t\t\n",
      "\t\t^<L3\t\t\t(id=83)\t\t\t\t\t\t\t\t\t\n",
      "\t\t^<L4\t\t\t(id=84)\t\t\t\t\t\t\t\t\t\n",
      "\t^<E2\t\t\t(id=85)\t\t\t\t\t\t\t\t\t\t\n",
      "\t\t+F1\t\t\t(id=86)\t\t\t\t\t\t\t\t\t\n",
      "\t\t^<L1\t\t\t(id=87)\t\t\t\t\t\t\t\t\t\n",
      "\t\t^<L2\t\t\t(id=88)\t\t\t\t\t\t\t\t\t\n",
      "\t\t^<L3\t\t\t(id=89)\t\t\t\t\t\t\t\t\t\n",
      "\t\t^<L4\t\t\t(id=90)\t\t\t\t\t\t\t\t\t\n",
      "\t^<E3\t\t\t(id=91)\t\t\t\t\t\t\t\t\t\t\n",
      "\t\t+F1\t\t\t(id=92)\t\t\t\t\t\t\t\t\t\n",
      "\t\t^<L1\t\t\t(id=93)\t\t\t\t\t\t\t\t\t\n",
      "\t\t^<L2\t\t\t(id=94)\t\t\t\t\t\t\t\t\t\n",
      "\t+A7\t\t\t(id=95)\t\t\t\t\t\t\t\t\t\t\n",
      "\t^/E1\t\t\t(id=96)\t\t\t\t\t\t\t\t\t\t\n",
      "\t\t+F1\t\t\t(id=97)\t\t\t\t\t\t\t\t\t\n",
      "\t\t^<L1\t\t\t(id=98)\t\t\t\t\t\t\t\t\t\n",
      "\t\t^<L2\t\t\t(id=99)\t\t\t\t\t\t\t\t\t\n",
      "\t\t^<L3\t\t\t(id=100)\t\t\t\t\t\t\t\t\t\n",
      "\t\t^<L4\t\t\t(id=101)\t\t\t\t\t\t\t\t\t\n",
      "\t\t^<L5\t\t\t(id=102)\t\t\t\t\t\t\t\t\t\n",
      "\t^<E2\t\t\t(id=103)\t\t\t\t\t\t\t\t\t\t\n",
      "\t\t+F1\t\t\t(id=104)\t\t\t\t\t\t\t\t\t\n",
      "\t\t^<L1\t\t\t(id=105)\t\t\t\t\t\t\t\t\t\n",
      "\t\t^<L2\t\t\t(id=106)\t\t\t\t\t\t\t\t\t\n",
      "\t\t^<L3\t\t\t(id=107)\t\t\t\t\t\t\t\t\t\n",
      "\t+A8\t\t\t(id=108)\t\t\t\t\t\t\t\t\t\t\n",
      "\t^/E1\t\t\t(id=109)\t\t\t\t\t\t\t\t\t\t\n",
      "\t\t+F1\t\t\t(id=110)\t\t\t\t\t\t\t\t\t\n",
      "\t\t^<L1\t\t\t(id=111)\t\t\t\t\t\t\t\t\t\n",
      "\t\t^<L2\t\t\t(id=112)\t\t\t\t\t\t\t\t\t\n",
      "\t\t^<L3\t\t\t(id=113)\t\t\t\t\t\t\t\t\t\n",
      "\t^<E2\t\t\t(id=114)\t\t\t\t\t\t\t\t\t\t\n",
      "\t\t+F1\t\t\t(id=115)\t\t\t\t\t\t\t\t\t\n",
      "\t\t^<L1\t\t\t(id=116)\t\t\t\t\t\t\t\t\t\n",
      "\t\t^<L2\t\t\t(id=117)\t\t\t\t\t\t\t\t\t\n",
      "\t\t^<L3\t\t\t(id=118)\t\t\t\t\t\t\t\t\t\n",
      "\t\t^<L4\t\t\t(id=119)\t\t\t\t\t\t\t\t\t\n",
      "\t^<E3\t\t\t(id=120)\t\t\t\t\t\t\t\t\t\t\n",
      "\t\t+F1\t\t\t(id=121)\t\t\t\t\t\t\t\t\t\n",
      "\t\t^<L1\t\t\t(id=122)\t\t\t\t\t\t\t\t\t\n",
      "\t\t^<L2\t\t\t(id=123)\t\t\t\t\t\t\t\t\t\n",
      "\t+A9\t\t\t(id=124)\t\t\t\t\t\t\t\t\t\t\n",
      "\t^/E1\t\t\t(id=125)\t\t\t\t\t\t\t\t\t\t\n",
      "\t\t+F1\t\t\t(id=126)\t\t\t\t\t\t\t\t\t\n",
      "\t\t^<L1\t\t\t(id=127)\t\t\t\t\t\t\t\t\t\n",
      "\t\t^<L2\t\t\t(id=128)\t\t\t\t\t\t\t\t\t\n",
      "\t\t^<L3\t\t\t(id=129)\t\t\t\t\t\t\t\t\t\n",
      "\t^<E2\t\t\t(id=130)\t\t\t\t\t\t\t\t\t\t\n",
      "\t\t+F1\t\t\t(id=131)\t\t\t\t\t\t\t\t\t\n",
      "\t\t^<L1\t\t\t(id=132)\t\t\t\t\t\t\t\t\t\n",
      "\t\t^<L2\t\t\t(id=133)\t\t\t\t\t\t\t\t\t\n",
      "\t\t^<L3\t\t\t(id=134)\t\t\t\t\t\t\t\t\t\n",
      "\t^<E3\t\t\t(id=135)\t\t\t\t\t\t\t\t\t\t\n",
      "\t\t+F1\t\t\t(id=136)\t\t\t\t\t\t\t\t\t\n",
      "\t\t^<L1\t\t\t(id=137)\t\t\t\t\t\t\t\t\t\n",
      "\t\t^<L2\t\t\t(id=138)\t\t\t\t\t\t\t\t\t\n",
      "\t\t^<L3\t\t\t(id=139)\t\t\t\t\t\t\t\t\t\n",
      "\t+A10\t\t\t(id=140)\t\t\t\t\t\t\t\t\t\t\n",
      "\t^/E1\t\t\t(id=141)\t\t\t\t\t\t\t\t\t\t\n",
      "\t\t+F1\t\t\t(id=142)\t\t\t\t\t\t\t\t\t\n",
      "\t\t^<L1\t\t\t(id=143)\t\t\t\t\t\t\t\t\t\n",
      "\t\t^<L2\t\t\t(id=144)\t\t\t\t\t\t\t\t\t\n",
      "\t\t^<L3\t\t\t(id=145)\t\t\t\t\t\t\t\t\t\n",
      "\t^<E2\t\t\t(id=146)\t\t\t\t\t\t\t\t\t\t\n",
      "\t\t+F1\t\t\t(id=147)\t\t\t\t\t\t\t\t\t\n",
      "\t\t^<L1\t\t\t(id=148)\t\t\t\t\t\t\t\t\t\n",
      "\t\t^<L2\t\t\t(id=149)\t\t\t\t\t\t\t\t\t\n",
      "\t\t^<L3\t\t\t(id=150)\t\t\t\t\t\t\t\t\t\n",
      "\t^<E3\t\t\t(id=151)\t\t\t\t\t\t\t\t\t\t\n",
      "\t\t+F1\t\t\t(id=152)\t\t\t\t\t\t\t\t\t\n",
      "\t\t^<L1\t\t\t(id=153)\t\t\t\t\t\t\t\t\t\n",
      "\t\t^<L2\t\t\t(id=154)\t\t\t\t\t\t\t\t\t\n",
      "\t\t^<L3\t\t\t(id=155)\t\t\t\t\t\t\t\t\t\n",
      "\t\t^<L4\t\t\t(id=156)\t\t\t\t\t\t\t\t\t\n",
      "\t\t^<L5\t\t\t(id=157)\t\t\t\t\t\t\t\t\t\n",
      "\t^<E4\t\t\t(id=158)\t\t\t\t\t\t\t\t\t\t\n",
      "\t\t+F1\t\t\t(id=159)\t\t\t\t\t\t\t\t\t\n",
      "\t\t^<L1\t\t\t(id=160)\t\t\t\t\t\t\t\t\t\n",
      "\t\t^<L2\t\t\t(id=161)\t\t\t\t\t\t\t\t\t\n",
      "\t\t^<L3\t\t\t(id=162)\t\t\t\t\t\t\t\t\t\n",
      "\t+A11\t\t\t(id=163)\t\t\t\t\t\t\t\t\t\t\n",
      "\t^/E1\t\t\t(id=164)\t\t\t\t\t\t\t\t\t\t\n",
      "\t\t+F1\t\t\t(id=165)\t\t\t\t\t\t\t\t\t\n",
      "\t\t^<L1\t\t\t(id=166)\t\t\t\t\t\t\t\t\t\n",
      "\t\t^<L2\t\t\t(id=167)\t\t\t\t\t\t\t\t\t\n",
      "\t\t^<L3\t\t\t(id=168)\t\t\t\t\t\t\t\t\t\n",
      "\t\t^<L4\t\t\t(id=169)\t\t\t\t\t\t\t\t\t\n",
      "\t^<E2\t\t\t(id=170)\t\t\t\t\t\t\t\t\t\t\n",
      "\t\t+F1\t\t\t(id=171)\t\t\t\t\t\t\t\t\t\n",
      "\t\t^<L1\t\t\t(id=172)\t\t\t\t\t\t\t\t\t\n",
      "\t\t^<L2\t\t\t(id=173)\t\t\t\t\t\t\t\t\t\n",
      "\t\t^<L3\t\t\t(id=174)\t\t\t\t\t\t\t\t\t\n",
      "\t^<E3\t\t\t(id=175)\t\t\t\t\t\t\t\t\t\t\n",
      "\t\t+F1\t\t\t(id=176)\t\t\t\t\t\t\t\t\t\n",
      "\t\t^<L1\t\t\t(id=177)\t\t\t\t\t\t\t\t\t\n",
      "\t\t^<L2\t\t\t(id=178)\t\t\t\t\t\t\t\t\t\n",
      "\t\t^<L3\t\t\t(id=179)\t\t\t\t\t\t\t\t\t\n",
      "\t+A12\t\t\t(id=180)\t\t\t\t\t\t\t\t\t\t\n",
      "\t^/E1\t\t\t(id=181)\t\t\t\t\t\t\t\t\t\t\n",
      "\t\t+F1\t\t\t(id=182)\t\t\t\t\t\t\t\t\t\n",
      "\t\t^<L1\t\t\t(id=183)\t\t\t\t\t\t\t\t\t\n",
      "\t\t^<L2\t\t\t(id=184)\t\t\t\t\t\t\t\t\t\n",
      "\t\t^<L3\t\t\t(id=185)\t\t\t\t\t\t\t\t\t\n",
      "\t^<E2\t\t\t(id=186)\t\t\t\t\t\t\t\t\t\t\n",
      "\t\t+F1\t\t\t(id=187)\t\t\t\t\t\t\t\t\t\n",
      "\t\t^<L1\t\t\t(id=188)\t\t\t\t\t\t\t\t\t\n",
      "\t\t^<L2\t\t\t(id=189)\t\t\t\t\t\t\t\t\t\n",
      "\t\t^<L3\t\t\t(id=190)\t\t\t\t\t\t\t\t\t\n",
      "\t\t^<L4\t\t\t(id=191)\t\t\t\t\t\t\t\t\t\n",
      "\t+A13\t\t\t(id=192)\t\t\t\t\t\t\t\t\t\t\n",
      "\t^/E1\t\t\t(id=193)\t\t\t\t\t\t\t\t\t\t\n",
      "\t\t+F1\t\t\t(id=194)\t\t\t\t\t\t\t\t\t\n",
      "\t\t^<L1\t\t\t(id=195)\t\t\t\t\t\t\t\t\t\n",
      "\t\t^<L2\t\t\t(id=196)\t\t\t\t\t\t\t\t\t\n",
      "\t\t^<L3\t\t\t(id=197)\t\t\t\t\t\t\t\t\t\n",
      "\t\t^<L4\t\t\t(id=198)\t\t\t\t\t\t\t\t\t\n",
      "\t^<E2\t\t\t(id=199)\t\t\t\t\t\t\t\t\t\t\n",
      "\t\t+F1\t\t\t(id=200)\t\t\t\t\t\t\t\t\t\n",
      "\t\t^<L1\t\t\t(id=201)\t\t\t\t\t\t\t\t\t\n",
      "\t\t^<L2\t\t\t(id=202)\t\t\t\t\t\t\t\t\t\n",
      "\t\t^<L3\t\t\t(id=203)\t\t\t\t\t\t\t\t\t\n",
      "\t+A14\t\t\t(id=204)\t\t\t\t\t\t\t\t\t\t\n",
      "\t^/E1\t\t\t(id=205)\t\t\t\t\t\t\t\t\t\t\n",
      "\t\t+F1\t\t\t(id=206)\t\t\t\t\t\t\t\t\t\n",
      "\t\t^<L1\t\t\t(id=207)\t\t\t\t\t\t\t\t\t\n",
      "\t\t^<L2\t\t\t(id=208)\t\t\t\t\t\t\t\t\t\n",
      "\t\t^<L3\t\t\t(id=209)\t\t\t\t\t\t\t\t\t\n",
      "\t^<E2\t\t\t(id=210)\t\t\t\t\t\t\t\t\t\t\n",
      "\t\t+F1\t\t\t(id=211)\t\t\t\t\t\t\t\t\t\n",
      "\t\t^<L1\t\t\t(id=212)\t\t\t\t\t\t\t\t\t\n",
      "\t\t^<L2\t\t\t(id=213)\t\t\t\t\t\t\t\t\t\n",
      "\t\t^<L3\t\t\t(id=214)\t\t\t\t\t\t\t\t\t\n",
      "\t\t^<L4\t\t\t(id=215)\t\t\t\t\t\t\t\t\t\n",
      "\t^<E3\t\t\t(id=216)\t\t\t\t\t\t\t\t\t\t\n",
      "\t\t+F1\t\t\t(id=217)\t\t\t\t\t\t\t\t\t\n",
      "\t\t^<L1\t\t\t(id=218)\t\t\t\t\t\t\t\t\t\n",
      "\t\t^<L2\t\t\t(id=219)\t\t\t\t\t\t\t\t\t\n",
      "\t\t^<L3\t\t\t(id=220)\t\t\t\t\t\t\t\t\t\n",
      "\t+A15\t\t\t(id=221)\t\t\t\t\t\t\t\t\t\t\n",
      "\t^/E1\t\t\t(id=222)\t\t\t\t\t\t\t\t\t\t\n",
      "\t\t+F1\t\t\t(id=223)\t\t\t\t\t\t\t\t\t\n",
      "\t\t^<L1\t\t\t(id=224)\t\t\t\t\t\t\t\t\t\n",
      "\t\t^<L2\t\t\t(id=225)\t\t\t\t\t\t\t\t\t\n",
      "\t\t^<L3\t\t\t(id=226)\t\t\t\t\t\t\t\t\t\n",
      "\t^<E2\t\t\t(id=227)\t\t\t\t\t\t\t\t\t\t\n",
      "\t\t+F1\t\t\t(id=228)\t\t\t\t\t\t\t\t\t\n",
      "\t\t^<L1\t\t\t(id=229)\t\t\t\t\t\t\t\t\t\n",
      "\t\t^<L2\t\t\t(id=230)\t\t\t\t\t\t\t\t\t\n",
      "\t\t^<L3\t\t\t(id=231)\t\t\t\t\t\t\t\t\t\n",
      "\t+A16\t\t\t(id=232)\t\t\t\t\t\t\t\t\t\t\n",
      "\t^/E1\t\t\t(id=233)\t\t\t\t\t\t\t\t\t\t\n",
      "\t\t+F1\t\t\t(id=234)\t\t\t\t\t\t\t\t\t\n",
      "\t\t^<L1\t\t\t(id=235)\t\t\t\t\t\t\t\t\t\n",
      "\t\t^<L2\t\t\t(id=236)\t\t\t\t\t\t\t\t\t\n",
      "\t\t^<L3\t\t\t(id=237)\t\t\t\t\t\t\t\t\t\n",
      "\t^<E2\t\t\t(id=238)\t\t\t\t\t\t\t\t\t\t\n",
      "\t\t+F1\t\t\t(id=239)\t\t\t\t\t\t\t\t\t\n",
      "\t\t^<L1\t\t\t(id=240)\t\t\t\t\t\t\t\t\t\n",
      "\t\t^<L2\t\t\t(id=241)\t\t\t\t\t\t\t\t\t\n",
      "\t\t^<L3\t\t\t(id=242)\t\t\t\t\t\t\t\t\t\n",
      "\t+A17\t\t\t(id=243)\t\t\t\t\t\t\t\t\t\t\n",
      "\t^/E1\t\t\t(id=244)\t\t\t\t\t\t\t\t\t\t\n",
      "\t\t+F1\t\t\t(id=245)\t\t\t\t\t\t\t\t\t\n",
      "\t\t^<L1\t\t\t(id=246)\t\t\t\t\t\t\t\t\t\n",
      "\t\t^<L2\t\t\t(id=247)\t\t\t\t\t\t\t\t\t\n",
      "\t\t^<L3\t\t\t(id=248)\t\t\t\t\t\t\t\t\t\n",
      "\t^<E2\t\t\t(id=249)\t\t\t\t\t\t\t\t\t\t\n",
      "\t\t+F1\t\t\t(id=250)\t\t\t\t\t\t\t\t\t\n",
      "\t\t^<L1\t\t\t(id=251)\t\t\t\t\t\t\t\t\t\n",
      "\t\t^<L2\t\t\t(id=252)\t\t\t\t\t\t\t\t\t\n",
      "\t\t^<L3\t\t\t(id=253)\t\t\t\t\t\t\t\t\t\n",
      "\t\t^<L4\t\t\t(id=254)\t\t\t\t\t\t\t\t\t\n",
      "\t\t^<L5\t\t\t(id=255)\t\t\t\t\t\t\t\t\t\n",
      "\t^<E3\t\t\t(id=256)\t\t\t\t\t\t\t\t\t\t\n",
      "\t\t+F1\t\t\t(id=257)\t\t\t\t\t\t\t\t\t\n",
      "\t\t^<L1\t\t\t(id=258)\t\t\t\t\t\t\t\t\t\n",
      "\t\t^<L2\t\t\t(id=259)\t\t\t\t\t\t\t\t\t\n",
      "\t+A18\t\t\t(id=260)\t\t\t\t\t\t\t\t\t\t\n",
      "\t^/E1\t\t\t(id=261)\t\t\t\t\t\t\t\t\t\t\n",
      "\t\t+F1\t\t\t(id=262)\t\t\t\t\t\t\t\t\t\n",
      "\t\t^<L1\t\t\t(id=263)\t\t\t\t\t\t\t\t\t\n",
      "\t\t^<L2\t\t\t(id=264)\t\t\t\t\t\t\t\t\t\n",
      "\t\t^<L3\t\t\t(id=265)\t\t\t\t\t\t\t\t\t\n",
      "\t\t^<L4\t\t\t(id=266)\t\t\t\t\t\t\t\t\t\n",
      "\t\t^<L5\t\t\t(id=267)\t\t\t\t\t\t\t\t\t\n",
      "\t^<E2\t\t\t(id=268)\t\t\t\t\t\t\t\t\t\t\n",
      "\t\t+F1\t\t\t(id=269)\t\t\t\t\t\t\t\t\t\n",
      "\t\t^<L1\t\t\t(id=270)\t\t\t\t\t\t\t\t\t\n",
      "\t\t^<L2\t\t\t(id=271)\t\t\t\t\t\t\t\t\t\n",
      "\t\t^<L3\t\t\t(id=272)\t\t\t\t\t\t\t\t\t\n",
      "\t\t^<L4\t\t\t(id=273)\t\t\t\t\t\t\t\t\t\n",
      "\t^<E3\t\t\t(id=274)\t\t\t\t\t\t\t\t\t\t\n",
      "\t\t+F1\t\t\t(id=275)\t\t\t\t\t\t\t\t\t\n",
      "\t\t^<L1\t\t\t(id=276)\t\t\t\t\t\t\t\t\t\n",
      "\t\t^<L2\t\t\t(id=277)\t\t\t\t\t\t\t\t\t\n",
      "\t\t^<L3\t\t\t(id=278)\t\t\t\t\t\t\t\t\t\n",
      "\t^<E4\t\t\t(id=279)\t\t\t\t\t\t\t\t\t\t\n",
      "\t\t+F1\t\t\t(id=280)\t\t\t\t\t\t\t\t\t\n",
      "\t\t^<L1\t\t\t(id=281)\t\t\t\t\t\t\t\t\t\n",
      "\t\t^<L2\t\t\t(id=282)\t\t\t\t\t\t\t\t\t\n",
      "\t+A19\t\t\t(id=283)\t\t\t\t\t\t\t\t\t\t\n",
      "\t^/E1\t\t\t(id=284)\t\t\t\t\t\t\t\t\t\t\n",
      "\t\t+F1\t\t\t(id=285)\t\t\t\t\t\t\t\t\t\n",
      "\t\t^<L1\t\t\t(id=286)\t\t\t\t\t\t\t\t\t\n",
      "\t\t^<L2\t\t\t(id=287)\t\t\t\t\t\t\t\t\t\n",
      "\t\t^<L3\t\t\t(id=288)\t\t\t\t\t\t\t\t\t\n",
      "\t^<E2\t\t\t(id=289)\t\t\t\t\t\t\t\t\t\t\n",
      "\t\t+F1\t\t\t(id=290)\t\t\t\t\t\t\t\t\t\n",
      "\t\t^<L1\t\t\t(id=291)\t\t\t\t\t\t\t\t\t\n",
      "\t\t^<L2\t\t\t(id=292)\t\t\t\t\t\t\t\t\t\n",
      "\t\t^<L3\t\t\t(id=293)\t\t\t\t\t\t\t\t\t\n",
      "\t\t^<L4\t\t\t(id=294)\t\t\t\t\t\t\t\t\t\n",
      "\t^<E3\t\t\t(id=295)\t\t\t\t\t\t\t\t\t\t\n",
      "\t\t+F1\t\t\t(id=296)\t\t\t\t\t\t\t\t\t\n",
      "\t\t^<L1\t\t\t(id=297)\t\t\t\t\t\t\t\t\t\n",
      "\t\t^<L2\t\t\t(id=298)\t\t\t\t\t\t\t\t\t\n",
      "\t\t^<L3\t\t\t(id=299)\t\t\t\t\t\t\t\t\t\n",
      "\t+A20\t\t\t(id=300)\t\t\t\t\t\t\t\t\t\t\n",
      "\t^/E1\t\t\t(id=301)\t\t\t\t\t\t\t\t\t\t\n",
      "\t\t+F1\t\t\t(id=302)\t\t\t\t\t\t\t\t\t\n",
      "\t\t^<L1\t\t\t(id=303)\t\t\t\t\t\t\t\t\t\n",
      "\t\t^<L2\t\t\t(id=304)\t\t\t\t\t\t\t\t\t\n",
      "\t\t^<L3\t\t\t(id=305)\t\t\t\t\t\t\t\t\t\n",
      "\t^<E2\t\t\t(id=306)\t\t\t\t\t\t\t\t\t\t\n",
      "\t\t+F1\t\t\t(id=307)\t\t\t\t\t\t\t\t\t\n",
      "\t\t^<L1\t\t\t(id=308)\t\t\t\t\t\t\t\t\t\n",
      "\t\t^<L2\t\t\t(id=309)\t\t\t\t\t\t\t\t\t\n",
      "\t\t^<L3\t\t\t(id=310)\t\t\t\t\t\t\t\t\t\n",
      "\t+A21\t\t\t(id=311)\t\t\t\t\t\t\t\t\t\t\n",
      "\t^/E1\t\t\t(id=312)\t\t\t\t\t\t\t\t\t\t\n",
      "\t\t+F1\t\t\t(id=313)\t\t\t\t\t\t\t\t\t\n",
      "\t\t^<L1\t\t\t(id=314)\t\t\t\t\t\t\t\t\t\n",
      "\t\t^<L2\t\t\t(id=315)\t\t\t\t\t\t\t\t\t\n",
      "\t\t^<L3\t\t\t(id=316)\t\t\t\t\t\t\t\t\t\n",
      "\t\t^<L4\t\t\t(id=317)\t\t\t\t\t\t\t\t\t\n",
      "\t^<E2\t\t\t(id=318)\t\t\t\t\t\t\t\t\t\t\n",
      "\t\t+F1\t\t\t(id=319)\t\t\t\t\t\t\t\t\t\n",
      "\t\t^<L1\t\t\t(id=320)\t\t\t\t\t\t\t\t\t\n",
      "\t\t^<L2\t\t\t(id=321)\t\t\t\t\t\t\t\t\t\n",
      "\t\t^<L3\t\t\t(id=322)\t\t\t\t\t\t\t\t\t\n",
      "\t^<E3\t\t\t(id=323)\t\t\t\t\t\t\t\t\t\t\n",
      "\t\t+F1\t\t\t(id=324)\t\t\t\t\t\t\t\t\t\n",
      "\t\t^<L1\t\t\t(id=325)\t\t\t\t\t\t\t\t\t\n",
      "\t\t^<L2\t\t\t(id=326)\t\t\t\t\t\t\t\t\t\n",
      "\t+A22\t\t\t(id=327)\t\t\t\t\t\t\t\t\t\t\n",
      "\t^/E1\t\t\t(id=328)\t\t\t\t\t\t\t\t\t\t\n",
      "\t\t+F1\t\t\t(id=329)\t\t\t\t\t\t\t\t\t\n",
      "\t\t^<L1\t\t\t(id=330)\t\t\t\t\t\t\t\t\t\n",
      "\t\t^<L2\t\t\t(id=331)\t\t\t\t\t\t\t\t\t\n",
      "\t\t^<L3\t\t\t(id=332)\t\t\t\t\t\t\t\t\t\n",
      "\t^<E2\t\t\t(id=333)\t\t\t\t\t\t\t\t\t\t\n",
      "\t\t+F1\t\t\t(id=334)\t\t\t\t\t\t\t\t\t\n",
      "\t\t^<L1\t\t\t(id=335)\t\t\t\t\t\t\t\t\t\n",
      "\t\t^<L2\t\t\t(id=336)\t\t\t\t\t\t\t\t\t\n",
      "\t\t^<L3\t\t\t(id=337)\t\t\t\t\t\t\t\t\t\n",
      "\t\t^<L4\t\t\t(id=338)\t\t\t\t\t\t\t\t\t\n",
      "\t\t^<L5\t\t\t(id=339)\t\t\t\t\t\t\t\t\t\n",
      "\t^<E3\t\t\t(id=340)\t\t\t\t\t\t\t\t\t\t\n",
      "\t\t+F1\t\t\t(id=341)\t\t\t\t\t\t\t\t\t\n",
      "\t\t^<L1\t\t\t(id=342)\t\t\t\t\t\t\t\t\t\n",
      "\t\t^<L2\t\t\t(id=343)\t\t\t\t\t\t\t\t\t\n",
      "\t\t^<L3\t\t\t(id=344)\t\t\t\t\t\t\t\t\t\n",
      "\t+A23\t\t\t(id=345)\t\t\t\t\t\t\t\t\t\t\n",
      "\t^/E1\t\t\t(id=346)\t\t\t\t\t\t\t\t\t\t\n",
      "\t\t+F1\t\t\t(id=347)\t\t\t\t\t\t\t\t\t\n",
      "\t\t^<L1\t\t\t(id=348)\t\t\t\t\t\t\t\t\t\n",
      "\t\t^<L2\t\t\t(id=349)\t\t\t\t\t\t\t\t\t\n",
      "\t\t^<L3\t\t\t(id=350)\t\t\t\t\t\t\t\t\t\n",
      "\t\t^<L4\t\t\t(id=351)\t\t\t\t\t\t\t\t\t\n",
      "\t^<E2\t\t\t(id=352)\t\t\t\t\t\t\t\t\t\t\n",
      "\t\t+F1\t\t\t(id=353)\t\t\t\t\t\t\t\t\t\n",
      "\t\t^<L1\t\t\t(id=354)\t\t\t\t\t\t\t\t\t\n",
      "\t\t^<L2\t\t\t(id=355)\t\t\t\t\t\t\t\t\t\n",
      "\t\t^<L3\t\t\t(id=356)\t\t\t\t\t\t\t\t\t\n",
      "\t\t^<L4\t\t\t(id=357)\t\t\t\t\t\t\t\t\t\n",
      "\t+A24\t\t\t(id=358)\t\t\t\t\t\t\t\t\t\t\n",
      "\t^/E1\t\t\t(id=359)\t\t\t\t\t\t\t\t\t\t\n",
      "\t\t+F1\t\t\t(id=360)\t\t\t\t\t\t\t\t\t\n",
      "\t\t^<L1\t\t\t(id=361)\t\t\t\t\t\t\t\t\t\n",
      "\t\t^<L2\t\t\t(id=362)\t\t\t\t\t\t\t\t\t\n",
      "\t\t^<L3\t\t\t(id=363)\t\t\t\t\t\t\t\t\t\n",
      "\t\t^<L4\t\t\t(id=364)\t\t\t\t\t\t\t\t\t\n",
      "\t^<E2\t\t\t(id=365)\t\t\t\t\t\t\t\t\t\t\n",
      "\t\t+F1\t\t\t(id=366)\t\t\t\t\t\t\t\t\t\n",
      "\t\t^<L1\t\t\t(id=367)\t\t\t\t\t\t\t\t\t\n",
      "\t\t^<L2\t\t\t(id=368)\t\t\t\t\t\t\t\t\t\n",
      "\t\t^<L3\t\t\t(id=369)\t\t\t\t\t\t\t\t\t\n",
      "\t^<E3\t\t\t(id=370)\t\t\t\t\t\t\t\t\t\t\n",
      "\t\t+F1\t\t\t(id=371)\t\t\t\t\t\t\t\t\t\n",
      "\t\t^<L1\t\t\t(id=372)\t\t\t\t\t\t\t\t\t\n",
      "\t\t^<L2\t\t\t(id=373)\t\t\t\t\t\t\t\t\t\n",
      "\t\t^<L3\t\t\t(id=374)\t\t\t\t\t\t\t\t\t\n",
      "\t\t^<L4\t\t\t(id=375)\t\t\t\t\t\t\t\t\t\n",
      "\t^<E4\t\t\t(id=376)\t\t\t\t\t\t\t\t\t\t\n",
      "\t\t+F1\t\t\t(id=377)\t\t\t\t\t\t\t\t\t\n",
      "\t\t^<L1\t\t\t(id=378)\t\t\t\t\t\t\t\t\t\n",
      "\t\t^<L2\t\t\t(id=379)\t\t\t\t\t\t\t\t\t\n",
      "\t+A25\t\t\t(id=380)\t\t\t\t\t\t\t\t\t\t\n",
      "\t^/E1\t\t\t(id=381)\t\t\t\t\t\t\t\t\t\t\n",
      "\t\t+F1\t\t\t(id=382)\t\t\t\t\t\t\t\t\t\n",
      "\t\t^<L1\t\t\t(id=383)\t\t\t\t\t\t\t\t\t\n",
      "\t\t^<L2\t\t\t(id=384)\t\t\t\t\t\t\t\t\t\n",
      "\t\t^<L3\t\t\t(id=385)\t\t\t\t\t\t\t\t\t\n"
     ]
    }
   ],
   "source": [
    "g = MTG(r'MTG\\Fet-LD-F2.mtg')\n",
    "g.display()"
   ]
  },
  {
   "cell_type": "markdown",
   "metadata": {},
   "source": [
    "<h2><center>Reconstruction des plantes</center></h2><hr/>"
   ]
  },
  {
   "cell_type": "markdown",
   "metadata": {},
   "source": [
    "<h3><center>Rappel des principes du Lsystem</center></h3><hr/>"
   ]
  },
  {
   "cell_type": "code",
   "execution_count": 32,
   "metadata": {},
   "outputs": [
    {
     "ename": "KeyError",
     "evalue": "'XX'",
     "output_type": "error",
     "traceback": [
      "\u001b[1;31m---------------------------------------------------------------------------\u001b[0m",
      "\u001b[1;31mKeyError\u001b[0m                                  Traceback (most recent call last)",
      "\u001b[1;32m<ipython-input-32-faf3a9d8c676>\u001b[0m in \u001b[0;36m<module>\u001b[1;34m()\u001b[0m\n\u001b[1;32m----> 1\u001b[1;33m \u001b[0mlsys\u001b[0m \u001b[1;33m=\u001b[0m \u001b[0mLsystem\u001b[0m\u001b[1;33m(\u001b[0m\u001b[1;34m'TD_lsystem_Luzerne.lpy'\u001b[0m\u001b[1;33m)\u001b[0m\u001b[1;33m\u001b[0m\u001b[0m\n\u001b[0m",
      "\u001b[1;32mE:\\Projets\\Enseignements\\2018-2019\\Plantes&Societe\\NoteBook\\TD_M2\\TD_lsystem_Luzerne.lpy\u001b[0m in \u001b[0;36m__axiom__\u001b[1;34m()\u001b[0m\n",
      "\u001b[1;32mE:\\Projets\\Enseignements\\2018-2019\\Plantes&Societe\\NoteBook\\TD_M2\\TD_lsystem_Luzerne.lpy\u001b[0m in \u001b[0;36mcompute_length_orientation\u001b[1;34m(mtg)\u001b[0m\n",
      "\u001b[1;31mKeyError\u001b[0m: 'XX'"
     ]
    }
   ],
   "source": [
    "lsys = Lsystem('TD_lsystem_Luzerne.lpy')"
   ]
  },
  {
   "cell_type": "markdown",
   "metadata": {},
   "source": [
    "<h4><center>Structure de la Chaine Lsystem</center></h4><hr/>"
   ]
  },
  {
   "cell_type": "code",
   "execution_count": 8,
   "metadata": {},
   "outputs": [
    {
     "name": "stdout",
     "output_type": "stream",
     "text": [
      "Structure de la Chaine Lsystem \n",
      "\n",
      " [P[AS(3.44891137756,45.990581239,116.715852479,luzerne,11.7197612592)S(7.01855629972,49.6989567543,159.875568675,luzerne,11.8369429467)[AS(18.3707274184,28.6810017146,62.6567222224,luzerne,8.56894729344)S(4.88155866434,69.9542720967,132.458003305,luzerne,7.63637083483)S(14.3907421743,73.9523332115,120.690786042,luzerne,10.119259293)S(8.81934101275,80.8003368724,175.033391237,luzerne,8.65712022908)S(7.05385637181,75.2568221271,171.441537744,luzerne,8.27482085615)S(9.04267065868,68.9834673616,45.4670754351,luzerne,4.27241597627)S(7.82588908404,89.4197555,90.4102372281,luzerne,2.11841997708)S(7.81301500266,85.6916329244,68.9770825285,luzerne,2.4567590772)[T(36.2113051826,29.5622392162,13.7826801501,luzerne)U(21.8410588267,28.0570169132,16.8784472435,luzerne)]S(7.29613005999,79.089463603,109.668664613,luzerne,2.12157501901)S(8.15138205749,81.4525218689,60.8578192902,luzerne,2.7222085827)S(8.35113828389,86.6991900943,127.140831194,luzerne,4.34470134111)S(6.76291033848,77.3489007877,85.9472149484,luzerne,4.19716393372)S(14.667512276,50.389468744,85.6668474354,luzerne,5.32296182063)[T(17.7369798508,32.888686957,78.5714731837,luzerne)U(27.3081976878,13.8500696318,79.1652724724,luzerne)][T(10.2426918423,17.7477103661,99.4265816741,luzerne)U(13.5166340223,37.0605486935,93.8429700877,luzerne)]]S(16.1144611496,58.9053159514,172.281695616,luzerne,7.92154704337)S(8.24235401755,54.3079370491,128.599875614,luzerne,5.79625053536)S(7.81403764013,55.5175338295,132.317017427,luzerne,6.94968523182)S(15.5317311431,71.2722685641,175.1845495,luzerne,10.0051041089)[T(40.3429381477,66.0239327744,92.9101798165,luzerne)U(8.51373016543,49.8394228492,97.1426373413,luzerne)]S(14.392876806,71.9142928375,87.4810207921,luzerne,10.0964510975)S(9.75506548732,62.9338174367,162.655184498,luzerne,10.6492538289)S(15.2415285035,82.8878361172,128.794954137,luzerne,8.9480250889)S(8.24028401205,77.4362898624,130.845551967,luzerne,5.87326320671)S(7.86078843476,82.4043455592,165.092463244,luzerne,4.93016687577)S(7.8789546722,83.1739222436,179.016079426,luzerne,4.58422143547)S(7.11545991333,83.235056454,173.307656841,luzerne,4.55759598694)S(7.68911117145,83.4787411297,86.0793314278,luzerne,6.69226742448)S(7.22946549776,67.9217482842,128.954623684,luzerne,10.7311775098)[T(12.8505575799,43.0444804741,22.6411882595,luzerne)U(10.3035950982,11.4966468432,27.8798355384,luzerne)]S(0.0,nan,nan,luzerne,10.7311775098)[T(8.4488044686,13.0870761226,98.8234678034,luzerne)U(11.9153973818,30.0238320559,158.615903289,luzerne)]S(13.8334351053,75.8197480722,120.948447307,luzerne,5.85810155115)S(10.5434642294,79.1115969869,85.3592803923,luzerne,7.07117020229)[T(17.5501966879,10.2192367483,92.2629723535,luzerne)U(26.0969000426,8.70931398411,105.191275596,luzerne)]S(7.91306972744,78.5490783022,104.154460497,luzerne,2.31029346283)S(7.62578190684,75.0919593722,110.677452416,luzerne,3.76466204524)S(8.28362206763,65.8338044019,125.749657474,luzerne,6.20917196709)S(7.45060492782,76.235620771,113.316419377,luzerne,10.7416434233)[T(9.67478503707,38.616009588,86.0714589629,luzerne)U(7.13771795358,20.7093405152,79.4757054117,luzerne)]S(0.0,nan,nan,luzerne,10.7416434233)[T(31.1959565594,12.5659929806,149.949355136,luzerne)U(26.9071844216,22.1944725625,167.571338366,luzerne)]S(14.9348510994,76.5481823935,95.081387409,luzerne,7.16867837287)[T(16.6899900604,16.8556705257,126.496987011,luzerne)U(7.79640550681,4.50886816065,137.058929015,luzerne)]S(9.61460496308,74.862071527,42.2200474105,luzerne,3.36086211296)S(7.80155119889,88.1021973157,88.2812496503,luzerne,2.13916239988)S(7.79979584407,88.1397228191,88.3378356077,luzerne,3.14699477713)S(8.03854200223,78.9357295489,49.2439021858,luzerne,6.51222059898)S(6.3749056859,76.0314866589,107.983894112,luzerne,8.2100654495)S(8.56577970731,68.1135609471,51.5373937934,luzerne,12.2867123834)[T(12.294222088,12.6912496233,19.4067734945,luzerne)U(12.4376443151,19.363541777,28.2952428696,luzerne)]S(0.0,nan,nan,luzerne,12.2867123834)[T(14.5674833467,14.9238692295,129.813857786,luzerne)U(12.8499427112,1.19563991301,175.402203362,luzerne)]S(17.1149452667,69.2172825061,156.143118058,luzerne,5.02774104055)S(8.17338846004,67.9522398757,100.332347281,luzerne,3.32221125545)S(4.29571020783,83.7743356233,142.849163314,luzerne,4.55086991235)S(11.6359339638,85.5738852743,34.0453045551,luzerne,10.2609731333)[T(14.3025538869,1.99908242901,42.6853956212,luzerne)U(13.9801797603,11.636396184,46.5439357734,luzerne)]S(3.95045145701,57.5664805074,135.219950242,luzerne,7.44340236884)[T(17.7741003215,6.15899883504,169.949522131,luzerne)U(6.41721815164,5.63829127765,160.127836426,luzerne)]S(7.54270560679,71.7872663089,130.310004055,luzerne,10.104490042)[T(29.3807849632,31.9756109578,138.761332439,luzerne)U(23.1692833949,35.376520891,117.083006583,luzerne)]S(11.1121953869,84.5748257007,5.01423524569,luzerne,10.0768891121)S(7.62363794787,85.0386491685,155.577559292,luzerne,22.2979730765)[T(10.1927813309,43.1305731903,178.353868018,luzerne)U(17.4095586731,6.5380078937,165.458872455,luzerne)]S(9.878078105,73.76329772,157.48073146,luzerne,19.9579890108)[T(18.9242490811,17.8590903876,71.4099587263,luzerne)U(7.62709678803,14.2563628199,66.7987821804,luzerne)]S(26.7260893762,63.1248988369,113.498849634,luzerne,12.2760853178)S(3.2544123057,73.4271451618,125.671543201,luzerne,11.0854280266)S(5.4261561744,73.7051740479,111.767166724,luzerne,16.8851675459)[T(19.4246828947,16.3210927312,154.616368502,luzerne)U(18.9779951725,4.51040353804,152.143951564,luzerne)]S(0.0,nan,nan,luzerne,16.8851675459)[T(32.0443103152,34.7486765415,82.5102890353,luzerne)U(21.0450305278,28.8557024092,86.5168271779,luzerne)]S(4.67500783024,70.5340599159,81.474215495,luzerne,7.57321769273)[T(6.0740466817,17.5087449268,27.165117802,luzerne)U(2.16814244978,0.58913217484,15.9910866316,luzerne)]S(9.09639058628,67.951094937,158.784901198,luzerne,8.19122898247)S(8.56900094858,61.6592763361,111.052652823,luzerne,17.6272840616)[T(13.1396108945,3.4048119449,177.901333,luzerne)U(17.0726696096,9.85214788974,139.843883557,luzerne)][T(5.13450435686,33.2440972319,136.79880987,luzerne)U(8.17428338352,4.90081668134,170.1141338,luzerne)][T(23.061926378,18.1860004198,39.5983723462,luzerne)U(6.06835178957,19.8798132207,24.697191417,luzerne)]]]\n"
     ]
    }
   ],
   "source": [
    "print ('Structure de la Chaine Lsystem \\n\\n', lsys.axiom)"
   ]
  },
  {
   "cell_type": "markdown",
   "metadata": {},
   "source": [
    "<h4><center>Règles d'interprétation de la Chaine Lsystem</center></h4><hr/>"
   ]
  },
  {
   "cell_type": "markdown",
   "metadata": {},
   "source": [
    "![caption](files/interpretation.png)"
   ]
  },
  {
   "cell_type": "markdown",
   "metadata": {},
   "source": [
    "<h3><center>Applications</center></h3><hr/>"
   ]
  },
  {
   "cell_type": "markdown",
   "metadata": {},
   "source": [
    "<h4><center>Cas de la luzerne</center></h4><hr/>"
   ]
  },
  {
   "cell_type": "code",
   "execution_count": 23,
   "metadata": {
    "scrolled": true
   },
   "outputs": [],
   "source": [
    "import library\n",
    "def run_lsystem(scaling_Lmax=1, inclination_factor=1, lsys=None):\n",
    "    lsys.scaling_Lmax = scaling_Lmax\n",
    "    lsys.inclination_factor = inclination_factor\n",
    "    lstring = lsys.animate()\n",
    "    interpretedstring = lsys.interpret(lstring)\n",
    "    scene = lsys.sceneInterpretation(interpretedstring)\n",
    "    Viewer.display(scene)\n",
    "    scene.save(r'plante.bgeom')\n",
    "    return \n"
   ]
  },
  {
   "cell_type": "code",
   "execution_count": 24,
   "metadata": {},
   "outputs": [
    {
     "data": {
      "application/vnd.jupyter.widget-view+json": {
       "model_id": "efbae14016574ff89d61d4fd3b7e004a",
       "version_major": 2,
       "version_minor": 0
      },
      "text/plain": [
       "aW50ZXJhY3RpdmUoY2hpbGRyZW49KEZsb2F0U2xpZGVyKHZhbHVlPTEuMCwgZGVzY3JpcHRpb249dSdzY2FsaW5nX0xtYXgnLCBtYXg9Mi4wLCBtaW49MC41LCBzdGVwPTAuNSksIEZsb2F0U2zigKY=\n"
      ]
     },
     "metadata": {},
     "output_type": "display_data"
    }
   ],
   "source": [
    "interact(run_lsystem, scaling_Lmax = (0.5, 2, 0.5), inclination_factor = (0.5, 2, 0.5), lsys=fixed(lsys));"
   ]
  },
  {
   "cell_type": "markdown",
   "metadata": {},
   "source": [
    "<h4><center>Cas de la fétuque</center></h4><hr/>"
   ]
  },
  {
   "cell_type": "code",
   "execution_count": 25,
   "metadata": {},
   "outputs": [
    {
     "name": "stderr",
     "output_type": "stream",
     "text": [
      "TD_lsystem_Fetuque.lpy:47: RuntimeWarning: invalid value encountered in double_scalars\n",
      "  curr_inclination = arcsin(abs(distal_position[2] - basal_position[2]) / curr_length)\n",
      "TD_lsystem_Fetuque.lpy:51: ComplexWarning: Casting complex values to real discards the imaginary part\n",
      "  azimut[vtx] = degrees(float(curr_azimut))\n"
     ]
    }
   ],
   "source": [
    "#from openalea.lpy import Lsystem, Lstring\n",
    "#from openalea.plantgl.all import Viewer\n",
    "lsys = Lsystem('TD_lsystem_Fetuque.lpy')\n",
    "lstring = lsys.animate()"
   ]
  },
  {
   "cell_type": "markdown",
   "metadata": {},
   "source": [
    "<h2><center>Simulation du Rayonnement intercepté</center></h2><hr/>"
   ]
  },
  {
   "cell_type": "markdown",
   "metadata": {},
   "source": [
    "![caption](files/modelesRT.png)"
   ]
  },
  {
   "cell_type": "markdown",
   "metadata": {},
   "source": [
    "<h3><center>Effet de la direction du soleil sur le rayonnement intercepté</center></h3><hr/>"
   ]
  },
  {
   "cell_type": "code",
   "execution_count": 26,
   "metadata": {
    "scrolled": true
   },
   "outputs": [],
   "source": [
    "from alinea.caribu.CaribuScene import CaribuScene\n",
    "from alinea.caribu.sky_tools import GenSky, GetLight, Gensun, GetLightsSun\n",
    "from openalea.plantgl.all import *\n",
    "\n",
    "interpretedstring = lsys.interpret(lstring)\n",
    "scene = lsys.sceneInterpretation(lstring)\n",
    "\n",
    "def Light_model(hour=12):\n",
    "    # Creates sun\n",
    "    energy = 1\n",
    "    DOY = 175\n",
    "    latitude = 46.4333\n",
    "    getsun = GetLightsSun.GetLightsSun(Gensun.Gensun()(energy, DOY, hour, latitude)).split(' ')\n",
    "    sun = tuple((float(getsun[0]), tuple((float(getsun[1]), float(getsun[2]), float(getsun[3])))))\n",
    "    sun_position = sun\n",
    "    #print (sun_position)\n",
    "    sun_shp = Shape(Translated(sun_position[1][0] * -50, sun_position[1][1] * -50, sun_position[1][2] * -50, Sphere(0.5)), Material(Color3(60, 60, 15)), id=0)\n",
    "    scene.add(sun_shp)\n",
    "\n",
    "\n",
    "    c_scene = CaribuScene(scene=scene, light=[sun])\n",
    "    Viewer.display(scene)\n",
    "    raw, aggregated = c_scene.run()\n",
    "\n",
    "    # Visualisation\n",
    "    viewmaponcan, _ = c_scene.plot(raw['default_band']['Eabs'], display=False)\n",
    "    Viewer.display(viewmaponcan)\n",
    "\n",
    "    # Graph\n",
    "    import matplotlib\n",
    "    import matplotlib.pyplot as plt\n",
    "    %matplotlib inline  \n",
    "\n",
    "    graph = {'Tige':0, 'Feuilles':0}\n",
    "    for vid, Eabs in aggregated['default_band']['Eabs'].items():\n",
    "        if vid == 0: continue\n",
    "        elif lstring[vid].name == 'F':\n",
    "            graph['Feuilles'] += Eabs / sum(aggregated['default_band']['Eabs'].values())\n",
    "        else:\n",
    "            graph['Tige'] += Eabs / sum(aggregated['default_band']['Eabs'].values())\n",
    "\n",
    "    xindex = [1, 2]\n",
    "    LABELS = graph.keys()\n",
    "    plt.bar(xindex, graph.values(), align='center')\n",
    "    plt.xticks(xindex, LABELS)\n",
    "    "
   ]
  },
  {
   "cell_type": "code",
   "execution_count": 14,
   "metadata": {
    "scrolled": true
   },
   "outputs": [
    {
     "data": {
      "application/vnd.jupyter.widget-view+json": {
       "model_id": "a410d11ebf234d2c91607357fb0293fe",
       "version_major": 2,
       "version_minor": 0
      },
      "text/plain": [
       "aW50ZXJhY3RpdmUoY2hpbGRyZW49KEludFNsaWRlcih2YWx1ZT0xMiwgZGVzY3JpcHRpb249dSdob3VyJywgbWF4PTE5LCBtaW49NSksIE91dHB1dCgpKSwgX2RvbV9jbGFzc2VzPSh1J3dpZGfigKY=\n"
      ]
     },
     "metadata": {},
     "output_type": "display_data"
    }
   ],
   "source": [
    "interact(Light_model, hour = (5, 19, 1));"
   ]
  },
  {
   "cell_type": "markdown",
   "metadata": {},
   "source": [
    "<h3><center>Partage du rayonnement intercepté dans une association</center></h3><hr/>"
   ]
  },
  {
   "cell_type": "code",
   "execution_count": 27,
   "metadata": {},
   "outputs": [],
   "source": [
    "def Calcul_Caribu(scene):\n",
    "    from alinea.caribu.CaribuScene import CaribuScene\n",
    "    from openalea.plantgl.all import Scene, Viewer\n",
    "\n",
    "\n",
    "    c_scene = CaribuScene(scene=scene)\n",
    "    Viewer.display(scene)\n",
    "    raw, aggregated = c_scene.run()\n",
    "\n",
    "    # Visualisation\n",
    "    viewmaponcan, _ = c_scene.plot(raw['default_band']['Eabs'], display=False)\n",
    "    Viewer.display(viewmaponcan)\n",
    "\n",
    "    # Graph\n",
    "    import matplotlib\n",
    "    import matplotlib.pyplot as plt\n",
    "    %matplotlib inline  \n",
    "\n",
    "    graph = {'luzerne':0, 'fetuque':0}\n",
    "    surf_total = sum(area for (eabs, area) in zip(aggregated['default_band']['Eabs'].values(), aggregated['default_band']['area'].values()))\n",
    "    for vid, Eabs in aggregated['default_band']['Eabs'].items():\n",
    "        if 'luzerne' in lsys_asso_str[vid] :\n",
    "            graph['luzerne'] += Eabs * aggregated['default_band']['area'][vid] / surf_total\n",
    "        elif 'fetuque' in lsys_asso_str[vid]:\n",
    "            graph['fetuque'] +=  Eabs * aggregated['default_band']['area'][vid] / surf_total\n",
    "        else:\n",
    "            print ('vid',vid,lsys_asso_str[vid])\n",
    "\n",
    "    xindex = [1, 2]\n",
    "    LABELS = graph.keys()\n",
    "    plt.bar(xindex, graph.values(), align='center')\n",
    "    plt.xticks(xindex, LABELS)\n",
    "    return"
   ]
  },
  {
   "cell_type": "code",
   "execution_count": 28,
   "metadata": {},
   "outputs": [],
   "source": [
    "def Run_Asso(distance=0):\n",
    "    from openalea.plantgl.all import Scene\n",
    "    scene_out = Scene()\n",
    "    for i in range(len(scene_asso)):\n",
    "        if 'fetuque' in lsys_asso_str[scene_asso[i].id]:\n",
    "            scene_out+=Shape(Translated(distance,0,0,scene_asso[i].geometry),scene_asso[i].appearance,id = scene_asso[i].id )\n",
    "        else:\n",
    "            scene_out+=Shape(scene_asso[i].geometry,scene_asso[i].appearance,id = scene_asso[i].id )\n",
    "    Calcul_Caribu(scene_out)#scene_out+scene_luz)\n",
    "    return \n",
    "        "
   ]
  },
  {
   "cell_type": "code",
   "execution_count": 29,
   "metadata": {},
   "outputs": [
    {
     "name": "stderr",
     "output_type": "stream",
     "text": [
      "TD_lsystem_Luzerne.lpy:38: RuntimeWarning: invalid value encountered in double_scalars\n",
      "  curr_inclination = abs(arcsin((distal_position[2] - basal_position[2]) / curr_length))\n",
      "TD_lsystem_Fetuque.lpy:47: RuntimeWarning: invalid value encountered in double_scalars\n",
      "  curr_inclination = arcsin(abs(distal_position[2] - basal_position[2]) / curr_length)\n",
      "TD_lsystem_Fetuque.lpy:51: ComplexWarning: Casting complex values to real discards the imaginary part\n",
      "  azimut[vtx] = degrees(float(curr_azimut))\n"
     ]
    },
    {
     "data": {
      "application/vnd.jupyter.widget-view+json": {
       "model_id": "ed15f389d5cc4c79a9fd68bdf9a48f4a",
       "version_major": 2,
       "version_minor": 0
      },
      "text/plain": [
       "aW50ZXJhY3RpdmUoY2hpbGRyZW49KEludFNsaWRlcih2YWx1ZT0wLCBkZXNjcmlwdGlvbj11J2Rpc3RhbmNlJyksIE91dHB1dCgpKSwgX2RvbV9jbGFzc2VzPSh1J3dpZGdldC1pbnRlcmFjdCfigKY=\n"
      ]
     },
     "metadata": {},
     "output_type": "display_data"
    }
   ],
   "source": [
    "from openalea.lpy import Lsystem, Lstring\n",
    "from openalea.plantgl.all import Viewer,Translated,Shape\n",
    "lsys_luz = Lsystem('TD_lsystem_Luzerne.lpy')\n",
    "lsys_fet = Lsystem('TD_lsystem_Fetuque.lpy')\n",
    "lsys_luz_str = lsys_luz.animate()\n",
    "lsys_fet_str = lsys_fet.animate()\n",
    "lsys_asso_str = lsys_luz_str + lsys_fet_str\n",
    "\n",
    "scene_asso = lsys_fet.sceneInterpretation(lsys_asso_str)\n",
    "#Viewer.display(scene_asso)\n",
    "interact(Run_Asso,distance = (0,100,1));"
   ]
  },
  {
   "cell_type": "markdown",
   "metadata": {},
   "source": [
    "caribu avec renumerotation des indices de la scene pour le fonctionnement de caribu"
   ]
  },
  {
   "cell_type": "markdown",
   "metadata": {},
   "source": [
    "<h2><center>Exercices sur les Lsystems</center></h2><hr/>"
   ]
  },
  {
   "cell_type": "code",
   "execution_count": 6,
   "metadata": {},
   "outputs": [
    {
     "data": {
      "application/vnd.jupyter.widget-view+json": {
       "model_id": "6f6dbee0dab045eea4be6e71c06adcf4",
       "version_major": 2,
       "version_minor": 0
      },
      "text/plain": [
       "Button(description=u'Lpy', style=ButtonStyle())"
      ]
     },
     "metadata": {},
     "output_type": "display_data"
    }
   ],
   "source": [
    "from IPython.display import display\n",
    "import os\n",
    "button = widgets.Button(description=\"Lpy\")\n",
    "display(button)\n",
    "\n",
    "def on_button_clicked(b):\n",
    "    os.system('mylpy')\n",
    "    \n",
    "\n",
    "button.on_click(on_button_clicked)"
   ]
  },
  {
   "cell_type": "markdown",
   "metadata": {},
   "source": [
    "**Exercice 1 :**\n",
    "\n",
    "Les six premières itérations d’un L-system déterministe insensible au contexte produisent les chaînes de caractères suivantes :\n",
    "\n",
    "L\n",
    "CL\n",
    "LCL\n",
    "CLLCL\n",
    "LCLCLLCL\n",
    "CLLCLLCLCLLCL\n",
    "\n",
    "Quels sont les règles de productions et l’axiome de ce L-system ?\n"
   ]
  },
  {
   "cell_type": "markdown",
   "metadata": {},
   "source": [
    "**Exercice 2 :**\n",
    "\n",
    "Le module A représente l'apex\n",
    "\n",
    "Axiom: A\n",
    "\n",
    "1) Definir le nom de module de l'entrenoeud\n",
    "2) Ecrire la règle de production d'un entrenoeud à partir de l'apex\n",
    "2) Ecrire la règle de production qui permet de rajouter une ramification"
   ]
  },
  {
   "cell_type": "markdown",
   "metadata": {},
   "source": [
    "**Exercice 3 :**\n",
    "\n",
    "**Axiom**: [+A][-A]FA<hr/>\n",
    "**Règles de production:**<hr/>\n",
    "A --> FA<hr/>\n",
    "F --> FF <hr/>\n",
    "\n",
    "Quelles sont les chaînes de caractères produites par les 3 premières itérations ?<hr/>\n"
   ]
  }
 ],
 "metadata": {
  "celltoolbar": "Raw Cell Format",
  "kernelspec": {
   "display_name": "Python 2",
   "language": "python",
   "name": "python2"
  },
  "language_info": {
   "codemirror_mode": {
    "name": "ipython",
    "version": 2
   },
   "file_extension": ".py",
   "mimetype": "text/x-python",
   "name": "python",
   "nbconvert_exporter": "python",
   "pygments_lexer": "ipython2",
   "version": "2.7.15"
  }
 },
 "nbformat": 4,
 "nbformat_minor": 2
}
