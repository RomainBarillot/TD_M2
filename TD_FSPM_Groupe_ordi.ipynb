{
 "cells": [
  {
   "cell_type": "markdown",
   "metadata": {},
   "source": [
    "<h1><center>Modélisation écohysiologique de la plante dans le peuplement pour mieux comprendre et prédire (idéotypes, diversité/environnement, règles d'assemblage et amélioration des mélanges)</center></h1><hr/>"
   ]
  },
  {
   "cell_type": "markdown",
   "metadata": {},
   "source": [
    "![caption](files/contexte.png)"
   ]
  },
  {
   "cell_type": "markdown",
   "metadata": {},
   "source": [
    "<h2><center>Présentation du TD</center></h2><hr/>\n",
    "\n",
    "![caption](files/Luzerne.png)"
   ]
  },
  {
   "cell_type": "markdown",
   "metadata": {},
   "source": [
    "<h2><center>Chargement des librairies python</center></h2><hr/>"
   ]
  },
  {
   "cell_type": "code",
   "execution_count": null,
   "metadata": {},
   "outputs": [],
   "source": [
    "import library\n",
    "from __future__ import print_function\n",
    "from ipywidgets import interact, interactive, fixed, interact_manual\n",
    "import ipywidgets as widgets\n",
    "from openalea.mtg import MTG #librairie MTG\n",
    "from openalea.lpy import Lsystem, Lstring #librairie Lsystem\n",
    "from openalea.plantgl.all import Viewer #librairie visualisation graphique"
   ]
  },
  {
   "cell_type": "markdown",
   "metadata": {},
   "source": [
    "<h2><center>Description de l'Architecture des plantes</center></h2><hr/>"
   ]
  },
  {
   "cell_type": "markdown",
   "metadata": {},
   "source": [
    "![caption](files/architecture.jpg)"
   ]
  },
  {
   "cell_type": "markdown",
   "metadata": {},
   "source": [
    "<h3><center>Présentation des plantes en séance</center></h2><hr/>"
   ]
  },
  {
   "cell_type": "markdown",
   "metadata": {},
   "source": [
    "\n",
    "Décrivez les plantes qui sont devant vous.<p/>\n",
    "Identifiez les entités suivantes : \"A\" pour tige, \"S\" pour entrenoeud, \"T\" pour l'extrémité du pétiole et \"U\" : pour l'extrémité du foliole central <p/> Identifiez des relations topologiques entre entités : \"+\" pour insertion et \">\" pour succession <p/> Observez vous des motifs qui se répètent. <p/>"
   ]
  },
  {
   "cell_type": "markdown",
   "metadata": {},
   "source": [
    "<h3><center>Cas d'une légumineuse : La luzerne</center></h3><hr/>"
   ]
  },
  {
   "cell_type": "markdown",
   "metadata": {},
   "source": [
    "<p/>Sur le MTG suivant:<p/>\n",
    "    <p/>Donnez le nombre d'axes<p/>\n",
    "    <p/>Donnez le nombre de petioles<p/>"
   ]
  },
  {
   "cell_type": "code",
   "execution_count": null,
   "metadata": {},
   "outputs": [],
   "source": [
    "g = MTG(r'MTG\\luzerne.mtg') #Chargement du fichier MTG\n",
    "g.display()\n",
    "g.property_names()"
   ]
  },
  {
   "cell_type": "markdown",
   "metadata": {},
   "source": [
    "transition vers le lsystem plus complexe en expliquant que pour celui ci le lien avec le MTG"
   ]
  },
  {
   "cell_type": "markdown",
   "metadata": {},
   "source": [
    "<h3><center>Cas d'une graminée : La fétuque</center></h3><hr/>"
   ]
  },
  {
   "cell_type": "markdown",
   "metadata": {},
   "source": [
    "\n",
    "\n",
    "Décrivez les plantes qui sont devant vous.<p/>\n",
    "Identifiez les entités suivantes : \"A\" pour talle, \"E\" pour gaine, \"T\" pour l'extrémité du pétiole, \"F\" : pour l'insertion du limbe et \"L\" pour les segments du limbe<p/> Identifiez des relations topologiques entre entités : \"+\" pour insertion et \">\" pour succession <p/> Observez vous des motifs qui se répètent. <p/>"
   ]
  },
  {
   "cell_type": "code",
   "execution_count": null,
   "metadata": {
    "scrolled": true
   },
   "outputs": [],
   "source": [
    "g = MTG(r'MTG\\Fet-LD-F2.mtg')\n",
    "g.display()"
   ]
  },
  {
   "cell_type": "markdown",
   "metadata": {},
   "source": [
    "<h2><center>Reconstruction des plantes</center></h2><hr/>"
   ]
  },
  {
   "cell_type": "markdown",
   "metadata": {},
   "source": [
    "<h3><center>Rappel des principes du Lsystem</center></h3><hr/>"
   ]
  },
  {
   "cell_type": "markdown",
   "metadata": {},
   "source": [
    "<h3><center>Exercices sur les Lsystems</center></h3><hr/>"
   ]
  },
  {
   "cell_type": "code",
   "execution_count": null,
   "metadata": {},
   "outputs": [],
   "source": [
    "from IPython.display import display\n",
    "import os\n",
    "button = widgets.Button(description=\"Lpy\")\n",
    "display(button)\n",
    "\n",
    "def on_button_clicked(b):\n",
    "    os.system('mylpy')\n",
    "    \n",
    "\n",
    "button.on_click(on_button_clicked)"
   ]
  },
  {
   "cell_type": "markdown",
   "metadata": {},
   "source": [
    "**Exercice 1 : (utilisation de Lpy)**\n",
    "\n",
    "Les six premières itérations d’un L-system déterministe insensible au contexte produisent les chaînes de caractères suivantes :\n",
    "\n",
    "L<p/>\n",
    "CL<p/>\n",
    "LCL<p/>\n",
    "CLLCL<p/>\n",
    "LCLCLLCL<p/>\n",
    "CLLCLLCLCLLCL<p/>\n",
    "\n",
    "Quels sont les règles de productions et l’axiome de ce L-system ?\n"
   ]
  },
  {
   "cell_type": "markdown",
   "metadata": {},
   "source": [
    "**Exercice 2 :**\n",
    "\n",
    "Le module A représente l'apex\n",
    "\n",
    "Axiom: A\n",
    "\n",
    "1) Définir le nom du module de l'entrenoeud <p/>\n",
    "2) Ecrire la règle de production d'un entrenoeud à partir de l'apex<p/>\n",
    "3) Appliquer une règle d'interprétation pour représenter les entrenoeuds avec des cylindres. La représentation des cylindres se fait à l'aide de la commande \"F\"<p/>\n",
    "4) Ecrire la règle de production qui permet de rajouter une ramification<p/>"
   ]
  },
  {
   "cell_type": "code",
   "execution_count": null,
   "metadata": {},
   "outputs": [],
   "source": [
    "#Exercice 3 :\n",
    "\n",
    "Axiom: F[-F][+F]A\n",
    "derivation length: 2\n",
    "production:\n",
    "A:\n",
    "    produce F[-F][+F]\n"
   ]
  },
  {
   "cell_type": "code",
   "execution_count": null,
   "metadata": {},
   "outputs": [],
   "source": [
    "lsys = Lsystem('TD_lsystem_Luzerne.lpy')"
   ]
  },
  {
   "cell_type": "markdown",
   "metadata": {},
   "source": [
    "<h4><center>Structure de la Chaine Lsystem</center></h4><hr/>"
   ]
  },
  {
   "cell_type": "code",
   "execution_count": null,
   "metadata": {},
   "outputs": [],
   "source": [
    "print ('Structure de la Chaine Lsystem \\n\\n', lsys.axiom)"
   ]
  },
  {
   "cell_type": "markdown",
   "metadata": {},
   "source": [
    "<h4><center>Règles d'interprétation de la Chaine Lsystem</center></h4><hr/>"
   ]
  },
  {
   "cell_type": "markdown",
   "metadata": {},
   "source": [
    "![caption](files/interpretation.png)"
   ]
  },
  {
   "cell_type": "markdown",
   "metadata": {},
   "source": [
    "<h3><center>Applications</center></h3><hr/>"
   ]
  },
  {
   "cell_type": "markdown",
   "metadata": {},
   "source": [
    "<h4><center>Cas de la luzerne</center></h4><hr/>"
   ]
  },
  {
   "cell_type": "code",
   "execution_count": null,
   "metadata": {
    "scrolled": true
   },
   "outputs": [],
   "source": [
    "def run_lsystem(scaling_Lmax=1, inclination_factor=1, lsys=None):\n",
    "    lsys.scaling_Lmax = scaling_Lmax\n",
    "    lsys.inclination_factor = inclination_factor\n",
    "    lstring = lsys.animate()\n",
    "    interpretedstring = lsys.interpret(lstring)\n",
    "    scene = lsys.sceneInterpretation(interpretedstring)\n",
    "    Viewer.display(scene)\n",
    "    scene.save(r'plante.bgeom')\n",
    "    return \n",
    "interact(run_lsystem, scaling_Lmax = (0.5, 2, 0.5), inclination_factor = (0.5, 2, 0.5), lsys=fixed(lsys));"
   ]
  },
  {
   "cell_type": "markdown",
   "metadata": {},
   "source": [
    "<h4><center>Cas de la fétuque</center></h4><hr/>"
   ]
  },
  {
   "cell_type": "code",
   "execution_count": null,
   "metadata": {},
   "outputs": [],
   "source": [
    "#from openalea.lpy import Lsystem, Lstring\n",
    "#from openalea.plantgl.all import Viewer\n",
    "lsys = Lsystem('TD_lsystem_Fetuque.lpy')\n",
    "lstring = lsys.animate()"
   ]
  },
  {
   "cell_type": "markdown",
   "metadata": {},
   "source": [
    "<h2><center>Simulation du Rayonnement intercepté</center></h2><hr/>"
   ]
  },
  {
   "cell_type": "markdown",
   "metadata": {},
   "source": [
    "![caption](files/modelesRT.png)"
   ]
  },
  {
   "cell_type": "markdown",
   "metadata": {},
   "source": [
    "<h3><center>Effet de la direction du soleil sur le rayonnement intercepté</center></h3><hr/>"
   ]
  },
  {
   "cell_type": "code",
   "execution_count": null,
   "metadata": {
    "scrolled": true
   },
   "outputs": [],
   "source": [
    "from alinea.caribu.CaribuScene import CaribuScene\n",
    "from alinea.caribu.sky_tools import GenSky, GetLight, Gensun, GetLightsSun\n",
    "from openalea.plantgl.all import *\n",
    "\n",
    "interpretedstring = lsys.interpret(lstring)\n",
    "\n",
    "\n",
    "def Light_model(hour=12):\n",
    "    scene = lsys.sceneInterpretation(lstring)\n",
    "    # Creates sun\n",
    "    energy = 1\n",
    "    DOY = 175\n",
    "    latitude = 46.4333\n",
    "    getsun = GetLightsSun.GetLightsSun(Gensun.Gensun()(energy, DOY, hour, latitude)).split(' ')\n",
    "    sun = tuple((float(getsun[0]), tuple((float(getsun[1]), float(getsun[2]), float(getsun[3])))))\n",
    "    sun_position = sun\n",
    "    #print (sun_position)\n",
    "    sun_shp = Shape(Translated(sun_position[1][0] * -50, sun_position[1][1] * -50, sun_position[1][2] * -50, Sphere(0.5)), Material(Color3(60, 60, 15)), id=0)\n",
    "    scene.add(sun_shp)\n",
    "\n",
    "\n",
    "    c_scene = CaribuScene(scene=scene, light=[sun])\n",
    "    Viewer.display(scene)\n",
    "    raw, aggregated = c_scene.run()\n",
    "\n",
    "    # Visualisation\n",
    "    viewmaponcan, _ = c_scene.plot(raw['default_band']['Eabs'], display=False)\n",
    "    Viewer.display(viewmaponcan)\n",
    "\n",
    "    # Graph\n",
    "    from numpy import arange\n",
    "    import matplotlib\n",
    "    import matplotlib.pyplot as plt\n",
    "    %matplotlib inline  \n",
    "\n",
    "    graph = {'Tige':0, 'Feuilles':0}\n",
    "    for vid, Eabs in aggregated['default_band']['Eabs'].items():\n",
    "        if vid == 0: continue\n",
    "        elif lstring[vid].name == 'F':\n",
    "            graph['Feuilles'] += Eabs / sum(aggregated['default_band']['Eabs'].values())\n",
    "        else:\n",
    "            graph['Tige'] += Eabs / sum(aggregated['default_band']['Eabs'].values())\n",
    "    \n",
    "    fig,ax = plt.subplots()\n",
    "    xindex = [1, 2]\n",
    "    LABELS = graph.keys()\n",
    "    ax.bar(xindex, graph.values(), align='center')\n",
    "    plt.xticks(xindex, LABELS)\n",
    "    ax.set_yticks(arange(0,1.2,0.2))\n",
    "    ax.set_ylabel('Proportion interception PAR')\n",
    "    \n",
    "\n",
    "interact(Light_model, hour = (5, 19, 1));"
   ]
  },
  {
   "cell_type": "markdown",
   "metadata": {},
   "source": [
    "<h3><center>Partage du rayonnement intercepté dans une association</center></h3><hr/>"
   ]
  },
  {
   "cell_type": "code",
   "execution_count": null,
   "metadata": {},
   "outputs": [],
   "source": [
    "def Calcul_Caribu(scene):\n",
    "    from alinea.caribu.CaribuScene import CaribuScene\n",
    "    from openalea.plantgl.all import Scene, Viewer\n",
    "    from alinea.caribu.sky_tools import GetLight,GenSky\n",
    "\n",
    "    \n",
    "    #ciel\n",
    "    sky_string = GetLight.GetLight(GenSky.GenSky()(1, 'soc', 4, 5)) # (Energy, soc/uoc, azimuts, zenits)\n",
    "\n",
    "    sky = []\n",
    "    for string in sky_string.split('\\n'):\n",
    "        if len(string)!=0:\n",
    "            string_split = string.split(' ')\n",
    "            t = tuple((float(string_split[0]), tuple((float(string_split[1]), float(string_split[2]), float(string_split[3])))))\n",
    "            sky.append(t)\n",
    "    \n",
    "    c_scene = CaribuScene(scene=scene,light=sky)\n",
    "    Viewer.display(scene)\n",
    "    raw, aggregated = c_scene.run()\n",
    "\n",
    "    # Visualisation\n",
    "    viewmaponcan, _ = c_scene.plot(raw['default_band']['Eabs'], display=False)\n",
    "    Viewer.display(viewmaponcan)\n",
    "\n",
    "    # Graph\n",
    "    from numpy import arange\n",
    "    import matplotlib\n",
    "    import matplotlib.pyplot as plt\n",
    "    %matplotlib inline  \n",
    "\n",
    "    graph = {'luzerne':0, 'fetuque':0}\n",
    "    eabs_total = sum(eabs*area for (eabs, area) in zip(aggregated['default_band']['Eabs'].values(), aggregated['default_band']['area'].values()))\n",
    "    for vid, Eabs in aggregated['default_band']['Eabs'].items():\n",
    "        if 'luzerne' in lsys_asso_str[vid] :\n",
    "            graph['luzerne'] += Eabs * aggregated['default_band']['area'][vid] / eabs_total\n",
    "        elif 'fetuque' in lsys_asso_str[vid]:\n",
    "            graph['fetuque'] +=  Eabs * aggregated['default_band']['area'][vid] / eabs_total\n",
    "        else:\n",
    "            print ('vid',vid,lsys_asso_str[vid])\n",
    "    \n",
    "    fig,ax = plt.subplots()\n",
    "    xindex = [1, 2]\n",
    "    LABELS = graph.keys()\n",
    "    ax.bar(xindex, graph.values(), align='center')\n",
    "    plt.xticks(xindex, LABELS)\n",
    "    ax.set_yticks(arange(0,1.2,0.2))\n",
    "    ax.set_ylabel(\"Proportion interception PAR\")\n",
    "    return\n",
    "\n",
    "def Run_Asso(distance=0):\n",
    "    from openalea.plantgl.all import Scene\n",
    "    scene_out = Scene()\n",
    "    for i in range(len(scene_asso)):\n",
    "        if 'fetuque' in lsys_asso_str[scene_asso[i].id]:\n",
    "            scene_out+=Shape(Translated(distance,0,0,scene_asso[i].geometry),scene_asso[i].appearance,id = scene_asso[i].id )\n",
    "        else:\n",
    "            scene_out+=Shape(scene_asso[i].geometry,scene_asso[i].appearance,id = scene_asso[i].id )\n",
    "    Calcul_Caribu(scene_out)#scene_out+scene_luz)\n",
    "    return "
   ]
  },
  {
   "cell_type": "code",
   "execution_count": null,
   "metadata": {
    "scrolled": true
   },
   "outputs": [],
   "source": [
    "from openalea.lpy import Lsystem, Lstring\n",
    "from openalea.plantgl.all import Viewer,Translated,Shape\n",
    "lsys_luz = Lsystem('TD_lsystem_Luzerne.lpy')\n",
    "lsys_fet = Lsystem('TD_lsystem_Fetuque.lpy')\n",
    "lsys_luz_str = lsys_luz.animate()\n",
    "#lsys_luz_str = build_luz\n",
    "#interact(build_luz, scaling_Lmax = (0.5, 2, 0.5), inclination_factor = (0.5, 2, 0.5), lsys=fixed(lsys));\n",
    "lsys_fet_str = lsys_fet.animate()\n",
    "lsys_asso_str = lsys_luz_str + lsys_fet_str\n",
    "\n",
    "scene_asso = lsys_fet.sceneInterpretation(lsys_asso_str)\n",
    "Viewer.display(scene_asso)\n",
    "interact(Run_Asso,distance = (0,60,15));"
   ]
  }
 ],
 "metadata": {
  "celltoolbar": "Raw Cell Format",
  "kernelspec": {
   "display_name": "Python 2",
   "language": "python",
   "name": "python2"
  },
  "language_info": {
   "codemirror_mode": {
    "name": "ipython",
    "version": 2
   },
   "file_extension": ".py",
   "mimetype": "text/x-python",
   "name": "python",
   "nbconvert_exporter": "python",
   "pygments_lexer": "ipython2",
   "version": "2.7.15"
  }
 },
 "nbformat": 4,
 "nbformat_minor": 2
}
