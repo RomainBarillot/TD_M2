{
 "cells": [
  {
   "cell_type": "markdown",
   "metadata": {},
   "source": [
    "**Modélisation écohysiologique de la plante dans le peuplement pour mieux comprendre et prédire (idéotypes, diversité/environnement, règles d'assemblage et amélioration des mélanges)**"
   ]
  },
  {
   "cell_type": "markdown",
   "metadata": {},
   "source": [
    "<h2><center>Présentation du TD</center></h2><hr/>"
   ]
  },
  {
   "cell_type": "markdown",
   "metadata": {},
   "source": [
    "![caption](files/contexte.png)"
   ]
  },
  {
   "cell_type": "markdown",
   "metadata": {},
   "source": [
    "![caption](files/Luzerne.png)"
   ]
  },
  {
   "cell_type": "markdown",
   "metadata": {},
   "source": [
    "<h2><center>Description de l'Architecture des plantes</center></h2><hr/>"
   ]
  },
  {
   "cell_type": "markdown",
   "metadata": {},
   "source": [
    "![caption](files/architecture.jpg)"
   ]
  },
  {
   "cell_type": "markdown",
   "metadata": {},
   "source": [
    "<h3><center>Présentation des plantes en séance</center></h3><hr/>"
   ]
  },
  {
   "cell_type": "markdown",
   "metadata": {},
   "source": [
    "\n",
    "Décrivez les plantes qui sont devant vous.<p/>\n",
    "Identifiez les entités suivantes : \"A\" pour tige, \"S\" pour entrenoeud, \"T\" pour l'extrémité du pétiole et \"U\" : pour l'extrémité du foliole central <p/> Identifiez des relations topologiques entre entités : \"+\" pour insertion et \">\" pour succession <p/> Observez vous des motifs qui se répètent? <p/>"
   ]
  },
  {
   "cell_type": "markdown",
   "metadata": {},
   "source": [
    "<h2><center>Chargement des librairies python</center></h2><hr/>"
   ]
  },
  {
   "cell_type": "code",
   "execution_count": 1,
   "metadata": {},
   "outputs": [],
   "source": [
    "from __future__ import print_function\n",
    "from ipywidgets import interact, interactive, fixed, interact_manual\n",
    "import ipywidgets as widgets\n",
    "from openalea.mtg import MTG #librairie MTG\n",
    "from openalea.lpy import Lsystem, Lstring #librairie Lsystem\n",
    "from openalea.plantgl.all import Viewer #librairie visualisation graphique\n",
    "from IPython.display import display\n",
    "import os\n",
    "\n",
    "import library as TD_libs"
   ]
  },
  {
   "cell_type": "markdown",
   "metadata": {},
   "source": [
    "<h3><center>Cas d'une légumineuse : La luzerne</center></h3><hr/>"
   ]
  },
  {
   "cell_type": "markdown",
   "metadata": {},
   "source": [
    "<p/>Sur le MTG suivant:<p/>\n",
    "    <p/>Donnez le nombre d'axes<p/>\n",
    "    <p/>Donnez le nombre de petioles<p/>"
   ]
  },
  {
   "cell_type": "code",
   "execution_count": 2,
   "metadata": {},
   "outputs": [
    {
     "name": "stdout",
     "output_type": "stream",
     "text": [
      "MTG : nb_vertices=57, nb_scales=4\n",
      "/P\t\t\t(id=1)\t\t\t\t\t\t\t\t\t\t\t\n",
      "^/A1\t\t\t(id=2)\t\t\t\t\t\t\t\t\t\t\t\n",
      "^/S1\t\t\t(id=3)\t\t\t\t\t\t\t\t\t\t\t\n",
      "\t+A2\t\t\t(id=4)\t\t\t\t\t\t\t\t\t\t\n",
      "\t^/S1\t\t\t(id=5)\t\t\t\t\t\t\t\t\t\t\n",
      "\t\t+T1\t\t\t(id=6)\t\t\t\t\t\t\t\t\t\n",
      "\t\t^<U1\t\t\t(id=7)\t\t\t\t\t\t\t\t\t\n",
      "\t^<S2\t\t\t(id=8)\t\t\t\t\t\t\t\t\t\t\n",
      "\t\t+T1\t\t\t(id=9)\t\t\t\t\t\t\t\t\t\n",
      "\t\t^<U1\t\t\t(id=10)\t\t\t\t\t\t\t\t\t\n",
      "\t^<S3\t\t\t(id=11)\t\t\t\t\t\t\t\t\t\t\n",
      "\t\t+T1\t\t\t(id=12)\t\t\t\t\t\t\t\t\t\n",
      "\t\t^<U1\t\t\t(id=13)\t\t\t\t\t\t\t\t\t\n",
      "\t^<S4\t\t\t(id=14)\t\t\t\t\t\t\t\t\t\t\n",
      "\t\t+T1\t\t\t(id=15)\t\t\t\t\t\t\t\t\t\n",
      "\t\t^<U1\t\t\t(id=16)\t\t\t\t\t\t\t\t\t\n",
      "\t+A3\t\t\t(id=17)\t\t\t\t\t\t\t\t\t\t\n",
      "\t^/S1\t\t\t(id=18)\t\t\t\t\t\t\t\t\t\t\n",
      "\t\t+T1\t\t\t(id=19)\t\t\t\t\t\t\t\t\t\n",
      "\t\t^<U1\t\t\t(id=20)\t\t\t\t\t\t\t\t\t\n",
      "\t^<S2\t\t\t(id=21)\t\t\t\t\t\t\t\t\t\t\n",
      "\t\t+T1\t\t\t(id=22)\t\t\t\t\t\t\t\t\t\n",
      "\t\t^<U1\t\t\t(id=23)\t\t\t\t\t\t\t\t\t\n",
      "\t^<S3\t\t\t(id=24)\t\t\t\t\t\t\t\t\t\t\n",
      "\t\t+T1\t\t\t(id=25)\t\t\t\t\t\t\t\t\t\n",
      "\t\t^<U1\t\t\t(id=26)\t\t\t\t\t\t\t\t\t\n",
      "^<S2\t\t\t(id=27)\t\t\t\t\t\t\t\t\t\t\t\n",
      "\t+T1\t\t\t(id=28)\t\t\t\t\t\t\t\t\t\t\n",
      "\t^<U1\t\t\t(id=29)\t\t\t\t\t\t\t\t\t\t\n",
      "^<S3\t\t\t(id=30)\t\t\t\t\t\t\t\t\t\t\t\n",
      "\t+T1\t\t\t(id=31)\t\t\t\t\t\t\t\t\t\t\n",
      "\t^<U1\t\t\t(id=32)\t\t\t\t\t\t\t\t\t\t\n",
      "^<S4\t\t\t(id=33)\t\t\t\t\t\t\t\t\t\t\t\n",
      "\t+T1\t\t\t(id=34)\t\t\t\t\t\t\t\t\t\t\n",
      "\t^<U1\t\t\t(id=35)\t\t\t\t\t\t\t\t\t\t\n",
      "^<S5\t\t\t(id=36)\t\t\t\t\t\t\t\t\t\t\t\n",
      "\t+T1\t\t\t(id=37)\t\t\t\t\t\t\t\t\t\t\n",
      "\t^<U1\t\t\t(id=38)\t\t\t\t\t\t\t\t\t\t\n",
      "^<S6\t\t\t(id=39)\t\t\t\t\t\t\t\t\t\t\t\n",
      "\t+T1\t\t\t(id=40)\t\t\t\t\t\t\t\t\t\t\n",
      "\t^<U1\t\t\t(id=41)\t\t\t\t\t\t\t\t\t\t\n",
      "^<S7\t\t\t(id=42)\t\t\t\t\t\t\t\t\t\t\t\n",
      "\t+T1\t\t\t(id=43)\t\t\t\t\t\t\t\t\t\t\n",
      "\t^<U1\t\t\t(id=44)\t\t\t\t\t\t\t\t\t\t\n",
      "^<S8\t\t\t(id=45)\t\t\t\t\t\t\t\t\t\t\t\n",
      "\t+T1\t\t\t(id=46)\t\t\t\t\t\t\t\t\t\t\n",
      "\t^<U1\t\t\t(id=47)\t\t\t\t\t\t\t\t\t\t\n",
      "^<S9\t\t\t(id=48)\t\t\t\t\t\t\t\t\t\t\t\n",
      "\t+T1\t\t\t(id=49)\t\t\t\t\t\t\t\t\t\t\n",
      "\t^<U1\t\t\t(id=50)\t\t\t\t\t\t\t\t\t\t\n",
      "^<S10\t\t\t(id=51)\t\t\t\t\t\t\t\t\t\t\t\n",
      "\t+T1\t\t\t(id=52)\t\t\t\t\t\t\t\t\t\t\n",
      "\t^<U1\t\t\t(id=53)\t\t\t\t\t\t\t\t\t\t\n",
      "^<S11\t\t\t(id=54)\t\t\t\t\t\t\t\t\t\t\t\n",
      "\t+T1\t\t\t(id=55)\t\t\t\t\t\t\t\t\t\t\n",
      "\t^<U1\t\t\t(id=56)\t\t\t\t\t\t\t\t\t\t\n"
     ]
    },
    {
     "data": {
      "text/plain": [
       "['AA',\n",
       " 'index',\n",
       " 'BB',\n",
       " 'CC',\n",
       " 'XX',\n",
       " 'label',\n",
       " 'YY',\n",
       " 'Flargeur',\n",
       " 'edge_type',\n",
       " 'ZZ',\n",
       " '_line']"
      ]
     },
     "execution_count": 2,
     "metadata": {},
     "output_type": "execute_result"
    }
   ],
   "source": [
    "g = MTG(r'MTG\\luzerne.mtg') #Chargement du fichier MTG\n",
    "g.display()\n",
    "g.property_names()"
   ]
  },
  {
   "cell_type": "markdown",
   "metadata": {},
   "source": [
    "<h3><center>Cas d'une graminée : La fétuque</center></h3><hr/>"
   ]
  },
  {
   "cell_type": "markdown",
   "metadata": {},
   "source": [
    "\n",
    "\n",
    "Décrivez les plantes qui sont devant vous.<p/>\n",
    "Identifiez les entités suivantes : \"A\" pour talle, \"E\" pour gaine, \"T\" pour l'extrémité du pétiole, \"F\" : pour l'insertion du limbe et \"L\" pour les segments du limbe<p/> Identifiez des relations topologiques entre entités : \"+\" pour insertion et \">\" pour succession <p/> Observez vous des motifs qui se répètent? <p/>"
   ]
  },
  {
   "cell_type": "code",
   "execution_count": 3,
   "metadata": {
    "scrolled": true
   },
   "outputs": [
    {
     "name": "stdout",
     "output_type": "stream",
     "text": [
      "MTG : nb_vertices=180, nb_scales=4\n",
      "/P1\t\t\t(id=1)\t\t\t\t\t\t\t\t\t\t\t\n",
      "^/A0\t\t\t(id=2)\t\t\t\t\t\t\t\t\t\t\t\n",
      "^/E1\t\t\t(id=3)\t\t\t\t\t\t\t\t\t\t\t\n",
      "\t+A1\t\t\t(id=4)\t\t\t\t\t\t\t\t\t\t\n",
      "\t^/E1\t\t\t(id=5)\t\t\t\t\t\t\t\t\t\t\n",
      "\t\t+F1\t\t\t(id=6)\t\t\t\t\t\t\t\t\t\n",
      "\t\t^<L1\t\t\t(id=7)\t\t\t\t\t\t\t\t\t\n",
      "\t\t^<L2\t\t\t(id=8)\t\t\t\t\t\t\t\t\t\n",
      "\t\t^<L3\t\t\t(id=9)\t\t\t\t\t\t\t\t\t\n",
      "\t\t^<L4\t\t\t(id=10)\t\t\t\t\t\t\t\t\t\n",
      "\t\t^<L5\t\t\t(id=11)\t\t\t\t\t\t\t\t\t\n",
      "\t+A2\t\t\t(id=12)\t\t\t\t\t\t\t\t\t\t\n",
      "\t^/E1\t\t\t(id=13)\t\t\t\t\t\t\t\t\t\t\n",
      "\t\t+F1\t\t\t(id=14)\t\t\t\t\t\t\t\t\t\n",
      "\t\t^<L1\t\t\t(id=15)\t\t\t\t\t\t\t\t\t\n",
      "\t\t^<L2\t\t\t(id=16)\t\t\t\t\t\t\t\t\t\n",
      "\t\t^<L3\t\t\t(id=17)\t\t\t\t\t\t\t\t\t\n",
      "\t\t^<L4\t\t\t(id=18)\t\t\t\t\t\t\t\t\t\n",
      "\t^<E2\t\t\t(id=19)\t\t\t\t\t\t\t\t\t\t\n",
      "\t\t+F1\t\t\t(id=20)\t\t\t\t\t\t\t\t\t\n",
      "\t\t^<L1\t\t\t(id=21)\t\t\t\t\t\t\t\t\t\n",
      "\t\t^<L2\t\t\t(id=22)\t\t\t\t\t\t\t\t\t\n",
      "\t\t^<L3\t\t\t(id=23)\t\t\t\t\t\t\t\t\t\n",
      "\t+A3\t\t\t(id=24)\t\t\t\t\t\t\t\t\t\t\n",
      "\t^/E1\t\t\t(id=25)\t\t\t\t\t\t\t\t\t\t\n",
      "\t\t+F1\t\t\t(id=26)\t\t\t\t\t\t\t\t\t\n",
      "\t\t^<L1\t\t\t(id=27)\t\t\t\t\t\t\t\t\t\n",
      "\t\t^<L2\t\t\t(id=28)\t\t\t\t\t\t\t\t\t\n",
      "\t\t^<L3\t\t\t(id=29)\t\t\t\t\t\t\t\t\t\n",
      "\t\t^<L4\t\t\t(id=30)\t\t\t\t\t\t\t\t\t\n",
      "\t^<E2\t\t\t(id=31)\t\t\t\t\t\t\t\t\t\t\n",
      "\t\t+F1\t\t\t(id=32)\t\t\t\t\t\t\t\t\t\n",
      "\t\t^<L1\t\t\t(id=33)\t\t\t\t\t\t\t\t\t\n",
      "\t\t^<L2\t\t\t(id=34)\t\t\t\t\t\t\t\t\t\n",
      "\t\t^<L3\t\t\t(id=35)\t\t\t\t\t\t\t\t\t\n",
      "\t\t^<L4\t\t\t(id=36)\t\t\t\t\t\t\t\t\t\n",
      "\t+A4\t\t\t(id=37)\t\t\t\t\t\t\t\t\t\t\n",
      "\t^/E1\t\t\t(id=38)\t\t\t\t\t\t\t\t\t\t\n",
      "\t\t+F1\t\t\t(id=39)\t\t\t\t\t\t\t\t\t\n",
      "\t\t^<L1\t\t\t(id=40)\t\t\t\t\t\t\t\t\t\n",
      "\t\t^<L2\t\t\t(id=41)\t\t\t\t\t\t\t\t\t\n",
      "\t\t^<L3\t\t\t(id=42)\t\t\t\t\t\t\t\t\t\n",
      "\t^<E2\t\t\t(id=43)\t\t\t\t\t\t\t\t\t\t\n",
      "\t\t+F1\t\t\t(id=44)\t\t\t\t\t\t\t\t\t\n",
      "\t\t^<L1\t\t\t(id=45)\t\t\t\t\t\t\t\t\t\n",
      "\t\t^<L2\t\t\t(id=46)\t\t\t\t\t\t\t\t\t\n",
      "\t\t^<L3\t\t\t(id=47)\t\t\t\t\t\t\t\t\t\n",
      "\t\t^<L4\t\t\t(id=48)\t\t\t\t\t\t\t\t\t\n",
      "\t\t^<L5\t\t\t(id=49)\t\t\t\t\t\t\t\t\t\n",
      "\t^<E3\t\t\t(id=50)\t\t\t\t\t\t\t\t\t\t\n",
      "\t\t+F1\t\t\t(id=51)\t\t\t\t\t\t\t\t\t\n",
      "\t\t^<L1\t\t\t(id=52)\t\t\t\t\t\t\t\t\t\n",
      "\t\t^<L2\t\t\t(id=53)\t\t\t\t\t\t\t\t\t\n",
      "\t\t^<L3\t\t\t(id=54)\t\t\t\t\t\t\t\t\t\n",
      "\t^<E4\t\t\t(id=55)\t\t\t\t\t\t\t\t\t\t\n",
      "\t\t+F1\t\t\t(id=56)\t\t\t\t\t\t\t\t\t\n",
      "\t\t^<L1\t\t\t(id=57)\t\t\t\t\t\t\t\t\t\n",
      "\t\t^<L2\t\t\t(id=58)\t\t\t\t\t\t\t\t\t\n",
      "\t+A5\t\t\t(id=59)\t\t\t\t\t\t\t\t\t\t\n",
      "\t^/E1\t\t\t(id=60)\t\t\t\t\t\t\t\t\t\t\n",
      "\t\t+F1\t\t\t(id=61)\t\t\t\t\t\t\t\t\t\n",
      "\t\t^<L1\t\t\t(id=62)\t\t\t\t\t\t\t\t\t\n",
      "\t\t^<L2\t\t\t(id=63)\t\t\t\t\t\t\t\t\t\n",
      "\t\t^<L3\t\t\t(id=64)\t\t\t\t\t\t\t\t\t\n",
      "\t\t^<L4\t\t\t(id=65)\t\t\t\t\t\t\t\t\t\n",
      "\t^<E2\t\t\t(id=66)\t\t\t\t\t\t\t\t\t\t\n",
      "\t\t+F1\t\t\t(id=67)\t\t\t\t\t\t\t\t\t\n",
      "\t\t^<L1\t\t\t(id=68)\t\t\t\t\t\t\t\t\t\n",
      "\t\t^<L2\t\t\t(id=69)\t\t\t\t\t\t\t\t\t\n",
      "\t\t^<L3\t\t\t(id=70)\t\t\t\t\t\t\t\t\t\n",
      "\t\t^<L4\t\t\t(id=71)\t\t\t\t\t\t\t\t\t\n",
      "\t^<E3\t\t\t(id=72)\t\t\t\t\t\t\t\t\t\t\n",
      "\t\t+F1\t\t\t(id=73)\t\t\t\t\t\t\t\t\t\n",
      "\t\t^<L1\t\t\t(id=74)\t\t\t\t\t\t\t\t\t\n",
      "\t\t^<L2\t\t\t(id=75)\t\t\t\t\t\t\t\t\t\n",
      "\t\t^<L3\t\t\t(id=76)\t\t\t\t\t\t\t\t\t\n",
      "\t\t^<L4\t\t\t(id=77)\t\t\t\t\t\t\t\t\t\n",
      "\t+A6\t\t\t(id=78)\t\t\t\t\t\t\t\t\t\t\n",
      "\t^/E1\t\t\t(id=79)\t\t\t\t\t\t\t\t\t\t\n",
      "\t\t+F1\t\t\t(id=80)\t\t\t\t\t\t\t\t\t\n",
      "\t\t^<L1\t\t\t(id=81)\t\t\t\t\t\t\t\t\t\n",
      "\t\t^<L2\t\t\t(id=82)\t\t\t\t\t\t\t\t\t\n",
      "\t\t^<L3\t\t\t(id=83)\t\t\t\t\t\t\t\t\t\n",
      "\t\t^<L4\t\t\t(id=84)\t\t\t\t\t\t\t\t\t\n",
      "\t^<E2\t\t\t(id=85)\t\t\t\t\t\t\t\t\t\t\n",
      "\t\t+F1\t\t\t(id=86)\t\t\t\t\t\t\t\t\t\n",
      "\t\t^<L1\t\t\t(id=87)\t\t\t\t\t\t\t\t\t\n",
      "\t\t^<L2\t\t\t(id=88)\t\t\t\t\t\t\t\t\t\n",
      "\t\t^<L3\t\t\t(id=89)\t\t\t\t\t\t\t\t\t\n",
      "\t\t^<L4\t\t\t(id=90)\t\t\t\t\t\t\t\t\t\n",
      "\t^<E3\t\t\t(id=91)\t\t\t\t\t\t\t\t\t\t\n",
      "\t\t+F1\t\t\t(id=92)\t\t\t\t\t\t\t\t\t\n",
      "\t\t^<L1\t\t\t(id=93)\t\t\t\t\t\t\t\t\t\n",
      "\t\t^<L2\t\t\t(id=94)\t\t\t\t\t\t\t\t\t\n",
      "\t+A7\t\t\t(id=95)\t\t\t\t\t\t\t\t\t\t\n",
      "\t^/E1\t\t\t(id=96)\t\t\t\t\t\t\t\t\t\t\n",
      "\t\t+F1\t\t\t(id=97)\t\t\t\t\t\t\t\t\t\n",
      "\t\t^<L1\t\t\t(id=98)\t\t\t\t\t\t\t\t\t\n",
      "\t\t^<L2\t\t\t(id=99)\t\t\t\t\t\t\t\t\t\n",
      "\t\t^<L3\t\t\t(id=100)\t\t\t\t\t\t\t\t\t\n",
      "\t\t^<L4\t\t\t(id=101)\t\t\t\t\t\t\t\t\t\n",
      "\t\t^<L5\t\t\t(id=102)\t\t\t\t\t\t\t\t\t\n",
      "\t^<E2\t\t\t(id=103)\t\t\t\t\t\t\t\t\t\t\n",
      "\t\t+F1\t\t\t(id=104)\t\t\t\t\t\t\t\t\t\n",
      "\t\t^<L1\t\t\t(id=105)\t\t\t\t\t\t\t\t\t\n",
      "\t\t^<L2\t\t\t(id=106)\t\t\t\t\t\t\t\t\t\n",
      "\t\t^<L3\t\t\t(id=107)\t\t\t\t\t\t\t\t\t\n",
      "\t+A8\t\t\t(id=108)\t\t\t\t\t\t\t\t\t\t\n",
      "\t^/E1\t\t\t(id=109)\t\t\t\t\t\t\t\t\t\t\n",
      "\t\t+F1\t\t\t(id=110)\t\t\t\t\t\t\t\t\t\n",
      "\t\t^<L1\t\t\t(id=111)\t\t\t\t\t\t\t\t\t\n",
      "\t\t^<L2\t\t\t(id=112)\t\t\t\t\t\t\t\t\t\n",
      "\t\t^<L3\t\t\t(id=113)\t\t\t\t\t\t\t\t\t\n",
      "\t^<E2\t\t\t(id=114)\t\t\t\t\t\t\t\t\t\t\n",
      "\t\t+F1\t\t\t(id=115)\t\t\t\t\t\t\t\t\t\n",
      "\t\t^<L1\t\t\t(id=116)\t\t\t\t\t\t\t\t\t\n",
      "\t\t^<L2\t\t\t(id=117)\t\t\t\t\t\t\t\t\t\n",
      "\t\t^<L3\t\t\t(id=118)\t\t\t\t\t\t\t\t\t\n",
      "\t\t^<L4\t\t\t(id=119)\t\t\t\t\t\t\t\t\t\n",
      "\t^<E3\t\t\t(id=120)\t\t\t\t\t\t\t\t\t\t\n",
      "\t\t+F1\t\t\t(id=121)\t\t\t\t\t\t\t\t\t\n",
      "\t\t^<L1\t\t\t(id=122)\t\t\t\t\t\t\t\t\t\n",
      "\t\t^<L2\t\t\t(id=123)\t\t\t\t\t\t\t\t\t\n",
      "\t+A9\t\t\t(id=124)\t\t\t\t\t\t\t\t\t\t\n",
      "\t^/E1\t\t\t(id=125)\t\t\t\t\t\t\t\t\t\t\n",
      "\t\t+F1\t\t\t(id=126)\t\t\t\t\t\t\t\t\t\n",
      "\t\t^<L1\t\t\t(id=127)\t\t\t\t\t\t\t\t\t\n",
      "\t\t^<L2\t\t\t(id=128)\t\t\t\t\t\t\t\t\t\n",
      "\t\t^<L3\t\t\t(id=129)\t\t\t\t\t\t\t\t\t\n",
      "\t^<E2\t\t\t(id=130)\t\t\t\t\t\t\t\t\t\t\n",
      "\t\t+F1\t\t\t(id=131)\t\t\t\t\t\t\t\t\t\n",
      "\t\t^<L1\t\t\t(id=132)\t\t\t\t\t\t\t\t\t\n",
      "\t\t^<L2\t\t\t(id=133)\t\t\t\t\t\t\t\t\t\n",
      "\t\t^<L3\t\t\t(id=134)\t\t\t\t\t\t\t\t\t\n",
      "\t^<E3\t\t\t(id=135)\t\t\t\t\t\t\t\t\t\t\n",
      "\t\t+F1\t\t\t(id=136)\t\t\t\t\t\t\t\t\t\n",
      "\t\t^<L1\t\t\t(id=137)\t\t\t\t\t\t\t\t\t\n",
      "\t\t^<L2\t\t\t(id=138)\t\t\t\t\t\t\t\t\t\n",
      "\t\t^<L3\t\t\t(id=139)\t\t\t\t\t\t\t\t\t\n",
      "\t+A10\t\t\t(id=140)\t\t\t\t\t\t\t\t\t\t\n",
      "\t^/E1\t\t\t(id=141)\t\t\t\t\t\t\t\t\t\t\n",
      "\t\t+F1\t\t\t(id=142)\t\t\t\t\t\t\t\t\t\n",
      "\t\t^<L1\t\t\t(id=143)\t\t\t\t\t\t\t\t\t\n",
      "\t\t^<L2\t\t\t(id=144)\t\t\t\t\t\t\t\t\t\n",
      "\t\t^<L3\t\t\t(id=145)\t\t\t\t\t\t\t\t\t\n",
      "\t^<E2\t\t\t(id=146)\t\t\t\t\t\t\t\t\t\t\n",
      "\t\t+F1\t\t\t(id=147)\t\t\t\t\t\t\t\t\t\n",
      "\t\t^<L1\t\t\t(id=148)\t\t\t\t\t\t\t\t\t\n",
      "\t\t^<L2\t\t\t(id=149)\t\t\t\t\t\t\t\t\t\n",
      "\t\t^<L3\t\t\t(id=150)\t\t\t\t\t\t\t\t\t\n",
      "\t^<E3\t\t\t(id=151)\t\t\t\t\t\t\t\t\t\t\n",
      "\t\t+F1\t\t\t(id=152)\t\t\t\t\t\t\t\t\t\n",
      "\t\t^<L1\t\t\t(id=153)\t\t\t\t\t\t\t\t\t\n",
      "\t\t^<L2\t\t\t(id=154)\t\t\t\t\t\t\t\t\t\n",
      "\t\t^<L3\t\t\t(id=155)\t\t\t\t\t\t\t\t\t\n",
      "\t\t^<L4\t\t\t(id=156)\t\t\t\t\t\t\t\t\t\n",
      "\t\t^<L5\t\t\t(id=157)\t\t\t\t\t\t\t\t\t\n",
      "\t^<E4\t\t\t(id=158)\t\t\t\t\t\t\t\t\t\t\n",
      "\t\t+F1\t\t\t(id=159)\t\t\t\t\t\t\t\t\t\n",
      "\t\t^<L1\t\t\t(id=160)\t\t\t\t\t\t\t\t\t\n",
      "\t\t^<L2\t\t\t(id=161)\t\t\t\t\t\t\t\t\t\n",
      "\t\t^<L3\t\t\t(id=162)\t\t\t\t\t\t\t\t\t\n",
      "\t+A11\t\t\t(id=163)\t\t\t\t\t\t\t\t\t\t\n",
      "\t^/E1\t\t\t(id=164)\t\t\t\t\t\t\t\t\t\t\n",
      "\t\t+F1\t\t\t(id=165)\t\t\t\t\t\t\t\t\t\n",
      "\t\t^<L1\t\t\t(id=166)\t\t\t\t\t\t\t\t\t\n",
      "\t\t^<L2\t\t\t(id=167)\t\t\t\t\t\t\t\t\t\n",
      "\t\t^<L3\t\t\t(id=168)\t\t\t\t\t\t\t\t\t\n",
      "\t\t^<L4\t\t\t(id=169)\t\t\t\t\t\t\t\t\t\n",
      "\t^<E2\t\t\t(id=170)\t\t\t\t\t\t\t\t\t\t\n",
      "\t\t+F1\t\t\t(id=171)\t\t\t\t\t\t\t\t\t\n",
      "\t\t^<L1\t\t\t(id=172)\t\t\t\t\t\t\t\t\t\n",
      "\t\t^<L2\t\t\t(id=173)\t\t\t\t\t\t\t\t\t\n",
      "\t\t^<L3\t\t\t(id=174)\t\t\t\t\t\t\t\t\t\n",
      "\t^<E3\t\t\t(id=175)\t\t\t\t\t\t\t\t\t\t\n",
      "\t\t+F1\t\t\t(id=176)\t\t\t\t\t\t\t\t\t\n",
      "\t\t^<L1\t\t\t(id=177)\t\t\t\t\t\t\t\t\t\n",
      "\t\t^<L2\t\t\t(id=178)\t\t\t\t\t\t\t\t\t\n",
      "\t\t^<L3\t\t\t(id=179)\t\t\t\t\t\t\t\t\t\n"
     ]
    }
   ],
   "source": [
    "g = MTG(r'MTG\\Fet-LD-F2.mtg')\n",
    "g.display()"
   ]
  },
  {
   "cell_type": "markdown",
   "metadata": {},
   "source": [
    "<h2><center>Reconstruction des plantes</center></h2><hr/>"
   ]
  },
  {
   "cell_type": "markdown",
   "metadata": {},
   "source": [
    "<h3><center>Rappel des principes du Lsystem</center></h3><hr/>"
   ]
  },
  {
   "cell_type": "markdown",
   "metadata": {},
   "source": [
    "<h3><center>Exercices sur les Lsystems</center></h3><hr/>"
   ]
  },
  {
   "cell_type": "code",
   "execution_count": 4,
   "metadata": {},
   "outputs": [
    {
     "data": {
      "application/vnd.jupyter.widget-view+json": {
       "model_id": "8452f81872a24d10b249e96b74c1e41d",
       "version_major": 2,
       "version_minor": 0
      },
      "text/plain": [
       "Button(description=u'Lpy', style=ButtonStyle())"
      ]
     },
     "metadata": {},
     "output_type": "display_data"
    }
   ],
   "source": [
    "def on_button_clicked(b):\n",
    "    os.system('mylpy')\n",
    "\n",
    "button = widgets.Button(description=\"Lpy\")\n",
    "display(button)\n",
    "button.on_click(on_button_clicked)"
   ]
  },
  {
   "cell_type": "markdown",
   "metadata": {},
   "source": [
    "**Exercice 1 : (utilisation de Lpy)**\n",
    "\n",
    "Les six premières itérations d’un L-system déterministe insensible au contexte produisent les chaînes de caractères suivantes :\n",
    "\n",
    "L<p/>\n",
    "CL<p/>\n",
    "LCL<p/>\n",
    "CLLCL<p/>\n",
    "LCLCLLCL<p/>\n",
    "CLLCLLCLCLLCL<p/>\n",
    "\n",
    "Quels sont les règles de productions et l’axiome de ce L-system ?\n"
   ]
  },
  {
   "cell_type": "markdown",
   "metadata": {},
   "source": [
    "**Exercice 2 :**\n",
    "\n",
    "Le module A représente l'apex\n",
    "\n",
    "Axiom: A\n",
    "\n",
    "1) Définir le nom du module de l'entrenoeud <p/>\n",
    "2) Ecrire la règle de production d'un entrenoeud à partir de l'apex<p/>\n",
    "3) Appliquer une règle d'interprétation pour représenter les entrenoeuds avec des cylindres. La représentation des cylindres se fait à l'aide de la commande \"F\"<p/>"
   ]
  },
  {
   "cell_type": "markdown",
   "metadata": {},
   "source": [
    "**Exercice 2 :**\n",
    "\n",
    "1) Recopier le code suivant dans Lpy <p/>\n",
    "2) Analyser la syntaxe permettant de gérer la ramification <p/>\n",
    "\n",
    "--\n",
    "\n",
    "**Axiom**: F[-F][+F]A <p/>\n",
    "**derivation length**: 2 <p/>\n",
    "**production**:<p/>\n",
    "A:<p/>\n",
    "&emsp; produce F [-F] [+F] A\n"
   ]
  },
  {
   "cell_type": "code",
   "execution_count": 5,
   "metadata": {},
   "outputs": [],
   "source": [
    "lsys = Lsystem('TD_lsystem_Luzerne.lpy')"
   ]
  },
  {
   "cell_type": "markdown",
   "metadata": {},
   "source": [
    "<h4><center>Structure de la Chaine Lsystem</center></h4><hr/>"
   ]
  },
  {
   "cell_type": "code",
   "execution_count": 6,
   "metadata": {},
   "outputs": [
    {
     "name": "stdout",
     "output_type": "stream",
     "text": [
      "Structure de la Chaine Lsystem \n",
      "\n",
      " [P[AS(3.44891137756,45.990581239,116.715852479,luzerne,11.7197612592)S(7.01855629972,49.6989567543,159.875568675,luzerne,11.8369429467)[AS(18.3707274184,28.6810017146,62.6567222224,luzerne,8.56894729344)S(4.88155866434,69.9542720967,132.458003305,luzerne,7.63637083483)S(14.3907421743,73.9523332115,120.690786042,luzerne,10.119259293)S(8.81934101275,80.8003368724,175.033391237,luzerne,8.65712022908)S(7.05385637181,75.2568221271,171.441537744,luzerne,8.27482085615)S(9.04267065868,68.9834673616,45.4670754351,luzerne,4.27241597627)S(7.82588908404,89.4197555,90.4102372281,luzerne,2.11841997708)S(7.81301500266,85.6916329244,68.9770825285,luzerne,2.4567590772)[T(36.2113051826,29.5622392162,13.7826801501,luzerne)U(21.8410588267,28.0570169132,16.8784472435,luzerne)]\n"
     ]
    }
   ],
   "source": [
    "print ('Structure de la Chaine Lsystem \\n\\n', lsys.axiom[:20])"
   ]
  },
  {
   "cell_type": "markdown",
   "metadata": {},
   "source": [
    "<h4><center>Règles d'interprétation de la Chaine Lsystem</center></h4><hr/>"
   ]
  },
  {
   "cell_type": "markdown",
   "metadata": {},
   "source": [
    "![caption](files/interpretation.png)"
   ]
  },
  {
   "cell_type": "markdown",
   "metadata": {},
   "source": [
    "<h3><center>Applications</center></h3><hr/>"
   ]
  },
  {
   "cell_type": "markdown",
   "metadata": {},
   "source": [
    "<h4><center>Cas de la luzerne</center></h4><hr/>"
   ]
  },
  {
   "cell_type": "code",
   "execution_count": 7,
   "metadata": {
    "scrolled": true
   },
   "outputs": [
    {
     "data": {
      "application/vnd.jupyter.widget-view+json": {
       "model_id": "444a9babf7934062a4b9d886b094ed97",
       "version_major": 2,
       "version_minor": 0
      },
      "text/plain": [
       "aW50ZXJhY3RpdmUoY2hpbGRyZW49KEZsb2F0U2xpZGVyKHZhbHVlPTEuMCwgZGVzY3JpcHRpb249dSdzY2FsaW5nX0xtYXgnLCBtYXg9Mi4wLCBtaW49MC41LCBzdGVwPTAuNSksIEZsb2F0U2zigKY=\n"
      ]
     },
     "metadata": {},
     "output_type": "display_data"
    }
   ],
   "source": [
    "interact(TD_libs.run_lsystem, scaling_Lmax = (0.5, 2, 0.5), inclination_factor = (0.5, 2, 0.5), lsys=fixed(lsys));"
   ]
  },
  {
   "cell_type": "markdown",
   "metadata": {},
   "source": [
    "<h4><center>Cas de la fétuque</center></h4><hr/>"
   ]
  },
  {
   "cell_type": "code",
   "execution_count": 8,
   "metadata": {},
   "outputs": [],
   "source": [
    "lsys = Lsystem('TD_lsystem_Fetuque.lpy')\n",
    "lstring = lsys.animate()"
   ]
  },
  {
   "cell_type": "markdown",
   "metadata": {},
   "source": [
    "<h2><center>Simulation du Rayonnement intercepté</center></h2><hr/>"
   ]
  },
  {
   "cell_type": "markdown",
   "metadata": {},
   "source": [
    "![caption](files/modelesRT.png)"
   ]
  },
  {
   "cell_type": "markdown",
   "metadata": {},
   "source": [
    "<h3><center>Effet de la direction du soleil sur le rayonnement intercepté</center></h3><hr/>"
   ]
  },
  {
   "cell_type": "code",
   "execution_count": 9,
   "metadata": {
    "scrolled": false
   },
   "outputs": [
    {
     "data": {
      "application/vnd.jupyter.widget-view+json": {
       "model_id": "9d85e1ebe84a41e985cd476cb50d8125",
       "version_major": 2,
       "version_minor": 0
      },
      "text/plain": [
       "aW50ZXJhY3RpdmUoY2hpbGRyZW49KEludFNsaWRlcih2YWx1ZT0xMiwgZGVzY3JpcHRpb249dSdob3VyJywgbWF4PTE5LCBtaW49NSksIE91dHB1dCgpKSwgX2RvbV9jbGFzc2VzPSh1J3dpZGfigKY=\n"
      ]
     },
     "metadata": {},
     "output_type": "display_data"
    }
   ],
   "source": [
    "%matplotlib notebook\n",
    "interact(TD_libs.Light_model, lsys=fixed(lsys), lstring=fixed(lstring), hour=(5, 19, 1));"
   ]
  },
  {
   "cell_type": "markdown",
   "metadata": {},
   "source": [
    "<h3><center>Partage du rayonnement intercepté dans une association</center></h3><hr/>"
   ]
  },
  {
   "cell_type": "code",
   "execution_count": 10,
   "metadata": {
    "scrolled": false
   },
   "outputs": [
    {
     "data": {
      "application/vnd.jupyter.widget-view+json": {
       "model_id": "3777198595984440bcce100aa7769051",
       "version_major": 2,
       "version_minor": 0
      },
      "text/plain": [
       "aW50ZXJhY3RpdmUoY2hpbGRyZW49KEludFNsaWRlcih2YWx1ZT0wLCBkZXNjcmlwdGlvbj11J2Rpc3RhbmNlJywgbWF4PTYwLCBzdGVwPTE1KSwgT3V0cHV0KCkpLCBfZG9tX2NsYXNzZXM9KHXigKY=\n"
      ]
     },
     "metadata": {},
     "output_type": "display_data"
    }
   ],
   "source": [
    "%matplotlib notebook\n",
    "# Makes Lsystem for association\n",
    "lsys_luz = Lsystem('TD_lsystem_Luzerne.lpy')\n",
    "lsys_fet = Lsystem('TD_lsystem_Fetuque.lpy')\n",
    "lsys_luz_str = lsys_luz.animate()\n",
    "lsys_fet_str = lsys_fet.animate()\n",
    "lsys_asso_str = lsys_luz_str + lsys_fet_str\n",
    "# Visualisation of the association\n",
    "scene_asso = lsys_fet.sceneInterpretation(lsys_asso_str)\n",
    "Viewer.display(scene_asso)\n",
    "# Light absorption computation\n",
    "interact(TD_libs.Run_Asso, scene_asso=fixed(scene_asso), lsys_asso_str=fixed(lsys_asso_str), distance = (0,60,15));"
   ]
  }
 ],
 "metadata": {
  "celltoolbar": "Raw Cell Format",
  "kernelspec": {
   "display_name": "Python 2",
   "language": "python",
   "name": "python2"
  },
  "language_info": {
   "codemirror_mode": {
    "name": "ipython",
    "version": 2
   },
   "file_extension": ".py",
   "mimetype": "text/x-python",
   "name": "python",
   "nbconvert_exporter": "python",
   "pygments_lexer": "ipython2",
   "version": "2.7.15"
  }
 },
 "nbformat": 4,
 "nbformat_minor": 2
}
