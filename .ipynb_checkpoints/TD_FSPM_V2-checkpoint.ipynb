{
 "cells": [
  {
   "cell_type": "code",
   "execution_count": 1,
   "metadata": {
    "slideshow": {
     "slide_type": "slide"
    }
   },
   "outputs": [],
   "source": [
    "from __future__ import print_function\n",
    "from ipywidgets import interact, interactive, fixed, interact_manual\n",
    "import ipywidgets as widgets"
   ]
  },
  {
   "cell_type": "markdown",
   "metadata": {},
   "source": [
    "Presentation TD\n",
    "![caption](files/Luzerne.png)"
   ]
  },
  {
   "cell_type": "markdown",
   "metadata": {},
   "source": [
    "Loading and visualisation of the MTG"
   ]
  },
  {
   "cell_type": "code",
   "execution_count": 7,
   "metadata": {},
   "outputs": [
    {
     "name": "stdout",
     "output_type": "stream",
     "text": [
      "MTG : nb_vertices=57, nb_scales=4\n",
      "/P1\t\t\t(id=1)\t\t\t\t\t\t\t\t\t\t\t\n",
      "^/A1\t\t\t(id=2)\t\t\t\t\t\t\t\t\t\t\t\n",
      "^/E1\t\t\t(id=3)\t\t\t\t\t\t\t\t\t\t\t\n",
      "\t+A2\t\t\t(id=4)\t\t\t\t\t\t\t\t\t\t\n",
      "\t^/E1\t\t\t(id=5)\t\t\t\t\t\t\t\t\t\t\n",
      "\t\t+F1\t\t\t(id=6)\t\t\t\t\t\t\t\t\t\n",
      "\t\t^<L1\t\t\t(id=7)\t\t\t\t\t\t\t\t\t\n",
      "\t^<E2\t\t\t(id=8)\t\t\t\t\t\t\t\t\t\t\n",
      "\t\t+F1\t\t\t(id=9)\t\t\t\t\t\t\t\t\t\n",
      "\t\t^<L1\t\t\t(id=10)\t\t\t\t\t\t\t\t\t\n",
      "\t^<E3\t\t\t(id=11)\t\t\t\t\t\t\t\t\t\t\n",
      "\t\t+F1\t\t\t(id=12)\t\t\t\t\t\t\t\t\t\n",
      "\t\t^<L1\t\t\t(id=13)\t\t\t\t\t\t\t\t\t\n",
      "\t^<E4\t\t\t(id=14)\t\t\t\t\t\t\t\t\t\t\n",
      "\t\t+F1\t\t\t(id=15)\t\t\t\t\t\t\t\t\t\n",
      "\t\t^<L1\t\t\t(id=16)\t\t\t\t\t\t\t\t\t\n",
      "\t+A3\t\t\t(id=17)\t\t\t\t\t\t\t\t\t\t\n",
      "\t^/E1\t\t\t(id=18)\t\t\t\t\t\t\t\t\t\t\n",
      "\t\t+F1\t\t\t(id=19)\t\t\t\t\t\t\t\t\t\n",
      "\t\t^<L1\t\t\t(id=20)\t\t\t\t\t\t\t\t\t\n",
      "\t^<E2\t\t\t(id=21)\t\t\t\t\t\t\t\t\t\t\n",
      "\t\t+F1\t\t\t(id=22)\t\t\t\t\t\t\t\t\t\n",
      "\t\t^<L1\t\t\t(id=23)\t\t\t\t\t\t\t\t\t\n",
      "\t^<E3\t\t\t(id=24)\t\t\t\t\t\t\t\t\t\t\n",
      "\t\t+F1\t\t\t(id=25)\t\t\t\t\t\t\t\t\t\n",
      "\t\t^<L1\t\t\t(id=26)\t\t\t\t\t\t\t\t\t\n",
      "^<E2\t\t\t(id=27)\t\t\t\t\t\t\t\t\t\t\t\n",
      "\t+F1\t\t\t(id=28)\t\t\t\t\t\t\t\t\t\t\n",
      "\t^<L1\t\t\t(id=29)\t\t\t\t\t\t\t\t\t\t\n",
      "^<E3\t\t\t(id=30)\t\t\t\t\t\t\t\t\t\t\t\n",
      "\t+F1\t\t\t(id=31)\t\t\t\t\t\t\t\t\t\t\n",
      "\t^<L1\t\t\t(id=32)\t\t\t\t\t\t\t\t\t\t\n",
      "^<E4\t\t\t(id=33)\t\t\t\t\t\t\t\t\t\t\t\n",
      "\t+F1\t\t\t(id=34)\t\t\t\t\t\t\t\t\t\t\n",
      "\t^<L1\t\t\t(id=35)\t\t\t\t\t\t\t\t\t\t\n",
      "^<E5\t\t\t(id=36)\t\t\t\t\t\t\t\t\t\t\t\n",
      "\t+F1\t\t\t(id=37)\t\t\t\t\t\t\t\t\t\t\n",
      "\t^<L1\t\t\t(id=38)\t\t\t\t\t\t\t\t\t\t\n",
      "^<E6\t\t\t(id=39)\t\t\t\t\t\t\t\t\t\t\t\n",
      "\t+F1\t\t\t(id=40)\t\t\t\t\t\t\t\t\t\t\n",
      "\t^<L1\t\t\t(id=41)\t\t\t\t\t\t\t\t\t\t\n",
      "^<E7\t\t\t(id=42)\t\t\t\t\t\t\t\t\t\t\t\n",
      "\t+F1\t\t\t(id=43)\t\t\t\t\t\t\t\t\t\t\n",
      "\t^<L1\t\t\t(id=44)\t\t\t\t\t\t\t\t\t\t\n",
      "^<E8\t\t\t(id=45)\t\t\t\t\t\t\t\t\t\t\t\n",
      "\t+F1\t\t\t(id=46)\t\t\t\t\t\t\t\t\t\t\n",
      "\t^<L1\t\t\t(id=47)\t\t\t\t\t\t\t\t\t\t\n",
      "^<E9\t\t\t(id=48)\t\t\t\t\t\t\t\t\t\t\t\n",
      "\t+F1\t\t\t(id=49)\t\t\t\t\t\t\t\t\t\t\n",
      "\t^<L1\t\t\t(id=50)\t\t\t\t\t\t\t\t\t\t\n",
      "^<E10\t\t\t(id=51)\t\t\t\t\t\t\t\t\t\t\t\n",
      "\t+F1\t\t\t(id=52)\t\t\t\t\t\t\t\t\t\t\n",
      "\t^<L1\t\t\t(id=53)\t\t\t\t\t\t\t\t\t\t\n",
      "^<E11\t\t\t(id=54)\t\t\t\t\t\t\t\t\t\t\t\n",
      "\t+F1\t\t\t(id=55)\t\t\t\t\t\t\t\t\t\t\n",
      "\t^<L1\t\t\t(id=56)\t\t\t\t\t\t\t\t\t\t\n"
     ]
    },
    {
     "data": {
      "text/plain": [
       "['AA',\n",
       " 'index',\n",
       " 'BB',\n",
       " 'CC',\n",
       " 'XX',\n",
       " 'label',\n",
       " 'YY',\n",
       " 'Flargeur',\n",
       " 'edge_type',\n",
       " 'ZZ',\n",
       " '_line']"
      ]
     },
     "execution_count": 7,
     "metadata": {},
     "output_type": "execute_result"
    }
   ],
   "source": [
    "from openalea.mtg import MTG\n",
    "\n",
    "g = MTG(r'D:\\Documents\\Lusignan\\Modeles\\luzerne.mtg')\n",
    "g.display()\n",
    "g.property_names()"
   ]
  },
  {
   "cell_type": "markdown",
   "metadata": {},
   "source": [
    "Load Lsystem from MTG + visualisation of lstring"
   ]
  },
  {
   "cell_type": "code",
   "execution_count": 8,
   "metadata": {},
   "outputs": [
    {
     "name": "stdout",
     "output_type": "stream",
     "text": [
      "Structure of lstring \n",
      " Lsystem:\n",
      "Axiom: [P[A[E(0.24062418831,72.9105966503,8.13010235416)[A[E(0.422610932182,67.3440669917,137.489552922)[F(2.38046214001,29.9935781488,100.056276317)L(0.650615093585,23.5545399214,124.755912554)]E(0.30886890423,29.0546040991,90.0)[F(3.77307566847,43.140700393,104.944822835)L(0.764264352171,5.25516262294,86.9872124958)]E(1.26388290597,64.4198664898,166.218402764)[F(4.65395530705,48.5816961386,158.26770481)L(0.764852927039,27.2326260667,160.232831323)]E(0.370270171631,30.8731322631,65.8544580396)[F(3.02933986208,55.615094139,71.2473329207)L(1.32668760452,0.86377455719,40.4139011038)]]][A[E(0.668580586018,48.4047392115,22.5205656029)[F(3.72844471596,40.0682785089,51.4029128807)L(0.766159252375,15.9080566584,71.8109543003)]E(1.29634100452,51.8902496194,18.2084844706)[F(3.9013459216,46.5013581285,34.9920201986)L(0.8358827669,11.7345535893,63.1218602479)]E(0.346698716467,11.6483459172,103.62699486)[F(3.08635707591,47.0757623596,26.5650511771)L(1.22658061292,34.7985097369,60.8901444431)]]E(2.46296569201,71.8187359045,32.2424678391)[F(3.8615281949,27.1150100043,59.7795601801)L(0.914385039248,46.2030098329,58.5704343852)]E(3.49894269744,74.396917343,75.225449725)[F(3.54021185807,40.3048204929,113.811654251)L(1.58874164042,2.16433206622,116.565051177)]E(4.36382859425,79.4456792112,43.4792303389)[F(3.20889389042,30.5282543185,86.8891593465)L(1.84312235079,10.3140805267,86.5222134802)]E(3.6406730147,77.9158483027,70.8518625421)[F(2.90055167167,34.430745236,54.1839192508)L(2.17678662252,7.39043075221,50.2623953996)]E(3.06654528745,86.2558384553,177.137594774)[F(2.96438863849,46.773287595,124.159694546)L(2.6207250905,3.50018750869,124.722859419)]E(3.33402159561,81.8077958499,30.3432488842)[F(2.98404088444,42.0849812168,14.9147517395)L(2.31898684774,22.8363596917,9.15380945384)]E(3.66766955982,77.4473375683,70.2011236455)[F(2.85525830705,53.6615992466,161.029592192)L(2.70194374479,6.80169005413,164.875992692)]E(1.98891930455,73.805509671,27.9509690279)[F(2.76161184818,19.6795892809,0.881403996582)L(3.26297410348,43.5948909618,20.0452494254)]E(1.02537797909,65.0916458066,47.8155566842)[F(2.75029089371,42.5545696252,153.940858673)L(2.9292661197,17.6878098189,150.127794958)]E(1.17834629884,40.1635526762,60.0183606312)[F(1.10040901487,29.3883516031,16.355817101)L(3.04062493577,36.7669179412,11.1254056418)]]]]]\n",
      "module E\n",
      "derivation length: 1\n",
      "production:\n",
      "interpretation:\n",
      "maximum depth:1\n",
      "E(length,inclination,azimut) : \n",
      "\n",
      "  produce ;(7) EulerAngles(azimut,inclination,0) F(length)\n",
      "\n",
      "L(length,inclination,azimut) : \n",
      "\n",
      "  lf, la, pe, br, crois = 21./21., 6.5/21., 17./21., 3.6/21., 10./21. #leaf Trudeau\n",
      "  alpha = 3.14/8 #degre\n",
      "  leaf = mesh_leaflet(lf, la, alpha, 10)\n",
      "  inclination *= inclination_factor\n",
      "  produce ;(7) EulerAngles(azimut+90, 90, 0) +(inclination) @g(leaf, length*scaling_Lmax) EulerAngles(azimut, 90, 0) +(inclination) @g(leaf, length*scaling_Lmax) EulerAngles(azimut+180, 90, 0) +(inclination) @g(leaf, length*scaling_Lmax)\n",
      "\n",
      "F(length,inclination,azimut) : \n",
      "\n",
      "  produce ;(7) EulerAngles(azimut,inclination,0) F(length)\n",
      "\n",
      "endlsystem\n"
     ]
    }
   ],
   "source": [
    "from openalea.lpy import Lsystem, Lstring\n",
    "from openalea.plantgl.all import Viewer\n",
    "lsys = Lsystem(r'D:\\Documents\\Lusignan\\Modeles\\TD_lsystem_Luzerne.lpy')\n",
    "print ('Structure of lstring \\n', lsys)"
   ]
  },
  {
   "cell_type": "markdown",
   "metadata": {},
   "source": [
    "Lsystem interpretation, plantgl"
   ]
  },
  {
   "cell_type": "code",
   "execution_count": 9,
   "metadata": {},
   "outputs": [
    {
     "data": {
      "application/vnd.jupyter.widget-view+json": {
       "model_id": "c4ac4f00bc594e87ba047d14bbfcda89",
       "version_major": 2,
       "version_minor": 0
      },
      "text/plain": [
       "aW50ZXJhY3RpdmUoY2hpbGRyZW49KEZsb2F0U2xpZGVyKHZhbHVlPTEuMCwgZGVzY3JpcHRpb249dSdzY2FsaW5nX0xtYXgnLCBtYXg9Mi4wLCBtaW49MC41LCBzdGVwPTAuNSksIEZsb2F0U2zigKY=\n"
      ]
     },
     "metadata": {},
     "output_type": "display_data"
    }
   ],
   "source": [
    "def run_lsystem(scaling_Lmax=1, inclination_factor=1):\n",
    "    lsys.scaling_Lmax = scaling_Lmax\n",
    "    lsys.inclination_factor = inclination_factor\n",
    "    lstring = lsys.animate()\n",
    "    interpretedstring = lsys.interpret(lstring)\n",
    "    scene = lsys.sceneInterpretation(interpretedstring)\n",
    "    Viewer.display(scene)\n",
    "    scene.save(r'D:\\Documents\\Lusignan\\Projets\\2018\\Master 2 Science & Société\\Notebook Jupyter\\walnut.bgeom')\n",
    "\n",
    "interact(run_lsystem, scaling_Lmax = (0.5, 2, 0.5), inclination_factor = (0.5, 2, 0.5));"
   ]
  },
  {
   "cell_type": "markdown",
   "metadata": {},
   "source": [
    "Fetuque"
   ]
  },
  {
   "cell_type": "code",
   "execution_count": 1,
   "metadata": {},
   "outputs": [
    {
     "name": "stdout",
     "output_type": "stream",
     "text": [
      "NOT using graph editor observer No module named grapheditor\n"
     ]
    },
    {
     "data": {
      "text/plain": [
       "[5, 6, 7, 8, 9, 10, 11]"
      ]
     },
     "execution_count": 1,
     "metadata": {},
     "output_type": "execute_result"
    }
   ],
   "source": [
    "from openalea.mtg import MTG\n",
    "\n",
    "g = MTG(r'D:\\Documents\\Lusignan\\Modeles\\LD 210610\\LD 210610\\Fet-LD-F2.mtg')\n",
    "#g.display()\n",
    "g.components(4)"
   ]
  },
  {
   "cell_type": "code",
   "execution_count": 25,
   "metadata": {},
   "outputs": [
    {
     "name": "stderr",
     "output_type": "stream",
     "text": [
      "D:\\Documents\\Lusignan\\Modeles\\TD_lsystem_Fetuque.lpy:43: RuntimeWarning: invalid value encountered in double_scalars\n",
      "  curr_inclination = arcsin(abs(distal_position[2] - basal_position[2]) / curr_length)\n",
      "D:\\Documents\\Lusignan\\Modeles\\TD_lsystem_Fetuque.lpy:47: ComplexWarning: Casting complex values to real discards the imaginary part\n",
      "  azimut[vtx] = degrees(float(curr_azimut))\n"
     ]
    },
    {
     "name": "stdout",
     "output_type": "stream",
     "text": [
      "F\n"
     ]
    }
   ],
   "source": [
    "from openalea.lpy import Lsystem, Lstring\n",
    "from openalea.plantgl.all import Viewer\n",
    "lsys = Lsystem(r'D:\\Documents\\Lusignan\\Modeles\\TD_lsystem_Fetuque.lpy')\n",
    "lstring = lsys.animate()\n",
    "print (lstring[613].name)\n"
   ]
  },
  {
   "cell_type": "markdown",
   "metadata": {},
   "source": [
    "Caribu"
   ]
  },
  {
   "cell_type": "code",
   "execution_count": 42,
   "metadata": {},
   "outputs": [
    {
     "data": {
      "text/plain": [
       "([<matplotlib.axis.XTick at 0x1a8f7518>,\n",
       "  <matplotlib.axis.XTick at 0x19f9f898>],\n",
       " <a list of 2 Text xticklabel objects>)"
      ]
     },
     "execution_count": 42,
     "metadata": {},
     "output_type": "execute_result"
    },
    {
     "data": {
      "image/png": "[encoded data removed]",
      "text/plain": [
       "<matplotlib.figure.Figure at 0x1aa246d8>"
      ]
     },
     "metadata": {},
     "output_type": "display_data"
    }
   ],
   "source": [
    "from alinea.caribu.CaribuScene import CaribuScene\n",
    "from openalea.plantgl.all import Scene, Viewer\n",
    "\n",
    "#scene = Scene(r'D:\\Documents\\These_ESA\\Lpy\\Geom\\carre.geom')\n",
    "interpretedstring = lsys.interpret(lstring)\n",
    "scene = lsys.sceneInterpretation(lstring)\n",
    "\n",
    "c_scene = CaribuScene(scene=scene)\n",
    "Viewer.display(scene)\n",
    "raw, aggregated = c_scene.run()\n",
    "\n",
    "# Visualisation\n",
    "viewmaponcan, _ = c_scene.plot(raw['default_band']['Eabs'], display=False)\n",
    "Viewer.display(viewmaponcan)\n",
    "\n",
    "# Graph\n",
    "import matplotlib\n",
    "import matplotlib.pyplot as plt\n",
    "%matplotlib inline  \n",
    "\n",
    "graph = {'Tige':0, 'Feuilles':0}\n",
    "for vid, Eabs in aggregated['default_band']['Eabs'].items():\n",
    "    if lstring[vid].name == 'F':\n",
    "        graph['Feuilles'] += Eabs / sum(aggregated['default_band']['Eabs'].values())\n",
    "    else:\n",
    "        graph['Tige'] += Eabs / sum(aggregated['default_band']['Eabs'].values())\n",
    "\n",
    "xindex = [1, 2]\n",
    "LABELS = graph.keys()\n",
    "plt.bar(xindex, graph.values(), align='center')\n",
    "plt.xticks(xindex, LABELS)"
   ]
  }
 ],
 "metadata": {
  "celltoolbar": "Raw Cell Format",
  "kernelspec": {
   "display_name": "Python 2",
   "language": "python",
   "name": "python2"
  },
  "language_info": {
   "codemirror_mode": {
    "name": "ipython",
    "version": 2
   },
   "file_extension": ".py",
   "mimetype": "text/x-python",
   "name": "python",
   "nbconvert_exporter": "python",
   "pygments_lexer": "ipython2",
   "version": "2.7.15"
  }
 },
 "nbformat": 4,
 "nbformat_minor": 2
}
